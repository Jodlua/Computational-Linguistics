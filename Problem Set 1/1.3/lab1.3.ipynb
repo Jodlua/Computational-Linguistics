{
 "cells": [
  {
   "cell_type": "markdown",
   "metadata": {
    "collapsed": true
   },
   "source": [
    "## COG403: Problem 3 of Problem Set 1: Surprisal\n",
    "\n",
    "### All 3 problems for Problem Set 1 Due 4 October 2018"
   ]
  },
  {
   "cell_type": "markdown",
   "metadata": {},
   "source": [
    "**Note**: To edit this notebook, click \"clone\", and it will prompt you to create your own copy of this library. Make sure to create a private library, so others can't see your answers. For more details, see the How-To Guide for Azure Notebooks posted on Quercus.\n"
   ]
  },
  {
   "cell_type": "code",
   "execution_count": 125,
   "metadata": {
    "scrolled": true
   },
   "outputs": [
    {
     "name": "stdout",
     "output_type": "stream",
     "text": [
      "Requirement already satisfied: arpa in /Users/JoshGelua/anaconda3/lib/python3.5/site-packages (0.1.0b2)\n",
      "\u001b[33mYou are using pip version 10.0.1, however version 18.0 is available.\n",
      "You should consider upgrading via the 'pip install --upgrade pip' command.\u001b[0m\n",
      "P(there|hi) = 0.0025\n",
      "P(there|hi) = 0.0025\n",
      "log_p(there|hi) = -2.5984\n",
      "'hi' in demo_model.vocabulary() = 1.0000\n",
      "P(there|well hi) != 0.0025\n"
     ]
    }
   ],
   "source": [
    "# This installs a Python library called arpa, which is used for loading arpa format language files.\n",
    "# For more information, see: https://pypi.org/project/arpa/\n",
    "# Run this cell before running other cells in this notebook that use the arpa library.\n",
    "\n",
    "!pip install arpa\n",
    "import arpa\n",
    "\n",
    "# Here are some examples of how to use arpa:\n",
    "\n",
    "demo_model = arpa.loadf(\"data/bnc_10k_with_smoothing.arpa\")[0]\n",
    "\n",
    "# demo_model.p will give you the conditional probability of the last item given what came before\n",
    "print(\"P(there|hi) = {:.4f}\".format(demo_model.p([\"hi\", \"there\"])))\n",
    "\n",
    "# You can pass a list of terms or a string (arpa will automatically split on spaces).\n",
    "print(\"P(there|hi) = {:.4f}\".format(demo_model.p(\"hi there\")))\n",
    "\n",
    "# demo_model.log_p will give you log probabilities\n",
    "print(\"log_p(there|hi) = {:.4f}\".format(demo_model.log_p([\"hi\", \"there\"])))\n",
    "\n",
    "# demo_model.vocabulary() will return the vocabulary of the language model\n",
    "print(\"'hi' in demo_model.vocabulary() = {:.4f}\".format(\"hi\" in demo_model.vocabulary()))\n",
    "\n",
    "# For this problem set, the arpa models are bigram models. Arpa models will not raise an error\n",
    "# when passed trigrams, but the probabilities are not correct. It actually returns the bigram\n",
    "# probability of the last two tokens in the input.\n",
    "print(\"P(there|well hi) != {:.4f}\".format(demo_model.p([\"well\", \"hi\", \"there\"])))  # same output as demo_model.p([hi\", \"there\"])\n",
    "\n",
    "# Note that all input to the arpa model should be lowercase. The following will raise an error:\n",
    "# demo_model.p([\"Hi\"])"
   ]
  },
  {
   "cell_type": "markdown",
   "metadata": {},
   "source": [
    "## Part 1: Understanding Surprisal"
   ]
  },
  {
   "cell_type": "markdown",
   "metadata": {},
   "source": [
    "Smith and Levy$^1$ explored the shape of the relationship between a word’s predictability in context and how long, on average, a comprehender spends on reading that word. In particular they were interested in the hypothesis that a word’s average reading time might be linear in the surprisal of the word (Hale, 2001; Levy, 2008):\n",
    "\n",
    "$$\\textrm{surprisal}(w_i|\\textrm{Context}) = \\log\\frac{1}{P(w_i|\\textrm{Context})} \\quad\\quad (1)$$\n",
    "\n",
    "or in some other function of the word’s conditional probability. In this assignment, you will investigate this question yourself, using one of the datasets analyzed by Smith and Levy."
   ]
  },
  {
   "cell_type": "markdown",
   "metadata": {},
   "source": [
    "### (a)\n",
    "\n",
    "Write a function to compute the surprisal of a bigram using a bigram arpa model. In the case of out of vocabulary (OOV) items (words that don't occur in our training corpus), return None.\n",
    "\n",
    "Compute the surprisal of the word \"toast\" in the bigram \"like toast\" using the bigram arpa model trained on the British National Corpus (BNC)$^2$ with smoothing."
   ]
  },
  {
   "cell_type": "code",
   "execution_count": 126,
   "metadata": {},
   "outputs": [
    {
     "data": {
      "text/plain": [
       "12.721252353445184"
      ]
     },
     "execution_count": 126,
     "metadata": {},
     "output_type": "execute_result"
    }
   ],
   "source": [
    "import arpa\n",
    "import numpy as np\n",
    "\n",
    "model_with_smoothing = arpa.loadf(\"data/bnc_10k_with_smoothing.arpa\")[0]\n",
    "vocab = set(model_with_smoothing.vocabulary())\n",
    "\n",
    "\n",
    "def compute_surprisal(arpa_model, bigram):\n",
    "    \"\"\"\n",
    "    Return the surprisal of the second word in bigram based on bigram probabilities. Return None when\n",
    "    one of the words in bigram is an OOV word.\n",
    "    \"\"\"\n",
    "    bigram = bigram.split(\" \")\n",
    "    if bigram[1] in vocab:\n",
    "        surprisal = np.log((1/(arpa_model.p(bigram))))\n",
    "        return surprisal\n",
    "    else:\n",
    "        return None\n",
    "compute_surprisal(model_with_smoothing, \"like toast\")"
   ]
  },
  {
   "cell_type": "markdown",
   "metadata": {},
   "source": [
    "### (b) \n",
    "\n",
    "Compute the surprisal of the word \"toast\" in the bigram \"like toast\" using a bigram model trained on the BNC without smoothing. Is the surprisal of word \"toast\" without smoothing higher or lower than that of the model with smoothing? Explain why you think this is.\n",
    "\n",
    "If it's lower, come up with an example that would have higher surprisal without smoothing than with smoothing. If it's higher, come up with an example of a bigram that would have a lower surprisal without smoothing than with smoothing.  Explain how you came up with that example.\n",
    "\n",
    "Hint: investigate the arpa file to see which bigrams occur in the corpus."
   ]
  },
  {
   "cell_type": "code",
   "execution_count": 127,
   "metadata": {},
   "outputs": [
    {
     "data": {
      "text/plain": [
       "239.98596423156536"
      ]
     },
     "execution_count": 127,
     "metadata": {},
     "output_type": "execute_result"
    }
   ],
   "source": [
    "corpus_path = \"data/bnc_10k_no_smoothing.arpa\"\n",
    "model_without_smoothing = arpa.loadf(corpus_path)[0]\n",
    "compute_surprisal(model_without_smoothing, \"like toast\")"
   ]
  },
  {
   "cell_type": "markdown",
   "metadata": {},
   "source": [
    "The surprisal of the word \"toast\" without smoothing is higher than that of the model with smoothing.\n",
    "\n",
    "This is due to the absence of noise in the bigram model with smoothing to allow important patterns to show. Since the model with smoothing already has important patterns emphasized, a bigram \"like toast\" provides less information given that the words following \"like\" is 'toast-like', i.e. words like \"toast\" are common with words after \"like\". The model without smoothing is absent of the bigram \"like toast\", therefore calculating a higher surprisal."
   ]
  },
  {
   "cell_type": "code",
   "execution_count": 133,
   "metadata": {},
   "outputs": [
    {
     "data": {
      "text/plain": [
       "0.6931471905439975"
      ]
     },
     "execution_count": 133,
     "metadata": {},
     "output_type": "execute_result"
    }
   ],
   "source": [
    "compute_surprisal(model_without_smoothing, \"nitrogen oxide\")"
   ]
  },
  {
   "cell_type": "code",
   "execution_count": 134,
   "metadata": {},
   "outputs": [
    {
     "data": {
      "text/plain": [
       "2.3455075817125475"
      ]
     },
     "execution_count": 134,
     "metadata": {},
     "output_type": "execute_result"
    }
   ],
   "source": [
    "compute_surprisal(model_with_smoothing, \"nitrogen oxide\")"
   ]
  },
  {
   "cell_type": "markdown",
   "metadata": {},
   "source": [
    "In attempting to find the opposite example of \"like toast\", \"nitrogen oxide\" is contained in the bigram model without smoothing, and a low surprisal is due to \"nitrogen\" having a limited domain of following words. So the probability that \"oxide\" follows \"nitrogen\" is higher than \"toast\" following \"like\". In the bigram, \"like\" has a vastly wider range of following words, so without smoothing, the probability that \"toast\" follows \"like\" is low."
   ]
  },
  {
   "cell_type": "markdown",
   "metadata": {},
   "source": [
    "## Part 2: Surprisal and Reading Times"
   ]
  },
  {
   "cell_type": "markdown",
   "metadata": {},
   "source": [
    "### (c)\n",
    "\n",
    "Write a function to load in the Brown Corpus$^3$ annotated with reading times.\n",
    "\n",
    "In `data/brown_reading_times.csv`, you can access the Smith and Levy$^1$ self-paced reading dataset. This dataset derives from each subject in the experiment reading a number of several-hundred-word passages selected from the\n",
    "Brown corpus. This dataset is presented in tabular format, with one reading-time measurement per row and with the following columns:\n",
    "\n",
    " * The **word** that was read;\n",
    " * A **code** that uniquely identifies the word/context pair;\n",
    " * The identifier for the **subject** in the experiment from which the reading-time measurement was taken;\n",
    " * **text_id**, which is the identifier for the text from the Brown corpus that was being read;\n",
    " * **text_pos**, which is the word number in the text selection that was being read;\n",
    " * **word_in_exp** is the word number in the experiment for the particular subject;\n",
    " * The **time** in milliseconds that the word in question was visible on-screen during the subject’s reading. (Remember, in self-paced reading this is the time elapsed between the subject pressing a button/key to reveal the word, and the subject pressing the button/key again to mask that word and reveal the next word.)\n",
    "\n",
    "Take a look at the function `get_sentences_and_reading_times` in `provided_functions.py`. Run this function on `data/brown_reading_times.csv`.\n",
    "\n",
    "Write a function `get_reading_times_and_bigrams` to generate a list of bigrams and reading times for the second word in the bigram. Run it on the sentences and reading times returned by `get_sentences_and_reading_times`. Use the BNC at `data/bnc_10k.txt` as your train corpus (this is used to compute bigram counts for thresholding as described in the docstring for `get_reading_times_and_bigrams` below).\n",
    "\n",
    "Print the first 10 bigrams you generate as well as their associated reading times."
   ]
  },
  {
   "cell_type": "code",
   "execution_count": 150,
   "metadata": {},
   "outputs": [
    {
     "name": "stdout",
     "output_type": "stream",
     "text": [
      "First ten bigrams: \n",
      "[('have', 'a'), ('would', 'be'), ('me', 'i'), ('that', 'i'), ('able', 'to'), ('come', 'to'), ('about', 'the'), ('through', 'the'), ('that', 'he'), ('but', 'the')]\n",
      "and their respective reading times: \n",
      "[336.15, 283.28, 286.62, 143.27, 241.72, 261.62, 180.61, 587.6, 222.87, 326.77]\n"
     ]
    },
    {
     "data": {
      "text/plain": [
       "([('have', 'a'),\n",
       "  ('would', 'be'),\n",
       "  ('me', 'i'),\n",
       "  ('that', 'i'),\n",
       "  ('able', 'to'),\n",
       "  ('come', 'to'),\n",
       "  ('about', 'the'),\n",
       "  ('through', 'the'),\n",
       "  ('that', 'he'),\n",
       "  ('but', 'the'),\n",
       "  ('it', 'the'),\n",
       "  ('to', 'the'),\n",
       "  ('of', 'this'),\n",
       "  ('on', 'to'),\n",
       "  ('and', 'the'),\n",
       "  ('with', 'the'),\n",
       "  ('to', 'be'),\n",
       "  ('be', 'in'),\n",
       "  ('say', 'that'),\n",
       "  ('on', 'a'),\n",
       "  ('to', 'a'),\n",
       "  ('you', 'have'),\n",
       "  ('have', 'the'),\n",
       "  ('when', 'i'),\n",
       "  ('or', 'a'),\n",
       "  ('in', 'the'),\n",
       "  ('to', 'make'),\n",
       "  ('in', 'his'),\n",
       "  ('a', 'new'),\n",
       "  ('i', 'think'),\n",
       "  ('of', 'a'),\n",
       "  ('he', 'have'),\n",
       "  ('make', 'a'),\n",
       "  ('and', 'we'),\n",
       "  ('but', 'it'),\n",
       "  ('but', 'i'),\n",
       "  ('who', 'have'),\n",
       "  ('the', 'same'),\n",
       "  ('will', 'be'),\n",
       "  ('over', 'the'),\n",
       "  ('the', 'first'),\n",
       "  ('to', 'have'),\n",
       "  ('by', 'a'),\n",
       "  ('is', 'a'),\n",
       "  ('for', 'a'),\n",
       "  ('be', 'a'),\n",
       "  ('on', 'the'),\n",
       "  ('by', 'the'),\n",
       "  ('may', 'be'),\n",
       "  ('and', 'in'),\n",
       "  ('and', 'that'),\n",
       "  ('that', 'a'),\n",
       "  ('and', 'an'),\n",
       "  ('with', 'a'),\n",
       "  ('of', 'their'),\n",
       "  ('of', 'his'),\n",
       "  ('from', 'a'),\n",
       "  ('the', 'other'),\n",
       "  ('and', 'it'),\n",
       "  ('look', 'at'),\n",
       "  ('or', 'the'),\n",
       "  ('part', 'of'),\n",
       "  ('in', 'this'),\n",
       "  ('do', 'you'),\n",
       "  ('as', 'the'),\n",
       "  ('in', 'and'),\n",
       "  ('but', 'a'),\n",
       "  ('as', 'a'),\n",
       "  ('of', 'the'),\n",
       "  ('of', 'it'),\n",
       "  ('want', 'to'),\n",
       "  ('from', 'the'),\n",
       "  ('if', 'i'),\n",
       "  ('in', 'an'),\n",
       "  ('when', 'the'),\n",
       "  ('as', 'an'),\n",
       "  ('in', 'a'),\n",
       "  ('the', 'time'),\n",
       "  ('at', 'the'),\n",
       "  ('and', 'he'),\n",
       "  ('for', 'the'),\n",
       "  ('the', 'new'),\n",
       "  ('to', 'an'),\n",
       "  ('and', 'a'),\n",
       "  ('and', 'i'),\n",
       "  ('up', 'a'),\n",
       "  ('use', 'a'),\n",
       "  ('that', 'the'),\n",
       "  ('where', 'the'),\n",
       "  ('go', 'to'),\n",
       "  ('as', 'i'),\n",
       "  ('number', 'of'),\n",
       "  ('one', 'of'),\n",
       "  ('to', 'do'),\n",
       "  ('into', 'the'),\n",
       "  ('you', 'can'),\n",
       "  ('up', 'the'),\n",
       "  ('on', 'as'),\n",
       "  ('all', 'the'),\n",
       "  ('her', 'a'),\n",
       "  ('have', 'to'),\n",
       "  ('it', 'to'),\n",
       "  ('be', 'the')],\n",
       " [336.15,\n",
       "  283.28,\n",
       "  286.62,\n",
       "  143.27,\n",
       "  241.72,\n",
       "  261.62,\n",
       "  180.61,\n",
       "  587.6,\n",
       "  222.87,\n",
       "  326.77,\n",
       "  368.12,\n",
       "  183.39,\n",
       "  358.61,\n",
       "  153.5,\n",
       "  444.75,\n",
       "  294.03,\n",
       "  155.95,\n",
       "  373.61,\n",
       "  188.27,\n",
       "  250.69,\n",
       "  328.62,\n",
       "  457.88,\n",
       "  293.91,\n",
       "  247.26,\n",
       "  298.77,\n",
       "  198.95,\n",
       "  244.46,\n",
       "  199.12,\n",
       "  304.38,\n",
       "  306.64,\n",
       "  268.48,\n",
       "  358.56,\n",
       "  267.37,\n",
       "  391.22,\n",
       "  281.91,\n",
       "  155.6,\n",
       "  327.67,\n",
       "  183.4,\n",
       "  321.12,\n",
       "  228.64,\n",
       "  287.24,\n",
       "  237.76,\n",
       "  298.01,\n",
       "  178.34,\n",
       "  320.87,\n",
       "  234.91,\n",
       "  228.21,\n",
       "  132.16,\n",
       "  390.52,\n",
       "  188.52,\n",
       "  253.5,\n",
       "  290.34,\n",
       "  205.87,\n",
       "  206.27,\n",
       "  226.37,\n",
       "  288.5,\n",
       "  179.61,\n",
       "  263.62,\n",
       "  255.32,\n",
       "  181.46,\n",
       "  471.45,\n",
       "  374.82,\n",
       "  844.0,\n",
       "  232.82,\n",
       "  292.26,\n",
       "  228.78,\n",
       "  814.7,\n",
       "  277.36,\n",
       "  282.73,\n",
       "  501.07,\n",
       "  158.88,\n",
       "  222.95,\n",
       "  193.57,\n",
       "  381.91,\n",
       "  351.36,\n",
       "  242.42,\n",
       "  540.37,\n",
       "  177.72,\n",
       "  423.28,\n",
       "  182.85,\n",
       "  188.12,\n",
       "  326.89,\n",
       "  374.85,\n",
       "  355.56,\n",
       "  358.46,\n",
       "  384.04,\n",
       "  166.8,\n",
       "  265.13,\n",
       "  130.76,\n",
       "  250.03,\n",
       "  264.31,\n",
       "  215.54,\n",
       "  285.3,\n",
       "  247.38,\n",
       "  153.33,\n",
       "  304.91,\n",
       "  328.81,\n",
       "  228.34,\n",
       "  193.11,\n",
       "  396.13,\n",
       "  161.88,\n",
       "  320.83,\n",
       "  286.9])"
      ]
     },
     "execution_count": 150,
     "metadata": {},
     "output_type": "execute_result"
    }
   ],
   "source": [
    "import numpy as np\n",
    "import random as random\n",
    "from provided_functions import read_sentences_and_reading_times\n",
    "\n",
    "sentences, reading_times = read_sentences_and_reading_times(\"data/brown_reading_times.csv\")\n",
    "def get_reading_times_and_bigrams(\n",
    "        sentences, reading_times, train_corpus, bigram_threshold=50, max_bigrams=500):\n",
    "    \"\"\"\n",
    "    sentences: list of list of str -- each list is a sentence, and each str is a word\n",
    "    reading_times: list of list of float -- each list is a sentence, and each str is the reading\n",
    "        time for a word\n",
    "    train_corpus: the corpus to use to determine bigram counts for putting a threshold on bigrams\n",
    "    bigram_threshold: the minimum number of times a bigram must occur in train_corpus in order\n",
    "        to be included in the result.\n",
    "    max_bigrams: int -- the maximum number of bigrams and reading times to return\n",
    "    \n",
    "    Return two lists, one containing bigrams, and one containing reading times associated with\n",
    "    the second word in the bigram. Make sure to:\n",
    "        1. Include each bigram only once. For example, even if the bigram (\"i\", \"like\")\n",
    "           occurs 500 times in train_corpus with different reading times, it should only occur\n",
    "           once in the bigram list in the result. Randomly select which reading time to use.\n",
    "        2. Return max_bigrams bigrams or fewer. If there are more than max_bigrams in the sentences,\n",
    "           return 500 randomly selected bigrams.\n",
    "        3. Skip bigrams that occur in train_corpus fewer than bigram_threshold times.\n",
    "        4. Pad sentences with beginning of sentence and end of sentence tokens (\"<s>\" and \"<\\s>\").\n",
    "            For example in the sentence [\"i\", \"like\", toast\"], you should consider the bigrams (\"<s>\", \"i\")\n",
    "            and (\"toast\", \"<\\s>\") in addition to (\"i\", \"like\") and (\"like\", \"toast\").\n",
    "    \"\"\"\n",
    "    bigram_times = {}\n",
    "    for sentence, reading_time in zip(sentences, reading_times):\n",
    "        for index, word in enumerate(sentence):\n",
    "            if index == 0:\n",
    "                bigram = ('<s>', word.replace(\" \",\"\"))\n",
    "            elif index == len(sentence) - 1:\n",
    "                bigram = (word.replace(\" \",\"\"), '<\\s>')\n",
    "            else:\n",
    "                bigram = (word.replace(\" \",\"\"), sentence[index + 1].replace(\" \",\"\"))\n",
    "            if bigram in bigram_times:\n",
    "                bigram_times[bigram].append(reading_time[index])  \n",
    "            else:\n",
    "                bigram_times[bigram] = [reading_time[index]]\n",
    "    with open(train_corpus) as f:\n",
    "        total = f.read()\n",
    "    bigram_pool = {}\n",
    "    for key in bigram_times:\n",
    "        freq = (key[0]+\" \"+key[1])\n",
    "        if total.count(freq) >= bigram_threshold:\n",
    "            bigram_pool[key] = bigram_times[key][np.random.randint(0,len(bigram_times[key]))]\n",
    "    if len(bigram_pool) > max_bigrams:\n",
    "        keys = random.sample(list(bigram_pool.keys()), max_bigrams)\n",
    "        values = [bigram_pool[k] for k in keys]\n",
    "    else:\n",
    "        keys = list(bigram_pool.keys())\n",
    "        values = list(bigram_pool.values())\n",
    "    #printing first 10 keys and values\n",
    "    print (\"First ten bigrams: \\n\" + str(keys[0:10]))\n",
    "    print (\"and their respective reading times: \\n\" + str(values[0:10]))\n",
    "    return keys, values \n",
    "get_reading_times_and_bigrams(sentences, reading_times, \"data/bnc_10k.txt\")\n",
    "                \n",
    "    "
   ]
  },
  {
   "cell_type": "markdown",
   "metadata": {},
   "source": [
    "### (d)\n",
    "\n",
    "Use the BNC with smoothing arpa model, and the `compute_surprisal` function defined in part a to compute the surprisal of each bigram returned by `get_reading_times_and_bigrams` in part c.\n",
    "\n",
    "Use `matplotlib` to generate a scatter plot of surprisal vs. reading time for bigrams in the Brown Corpus.\n",
    "\n",
    "Use `scipy.stats.pearsonr` to compute the linear correlation between surprisal and reading time and print the results.\n",
    "\n",
    "Based on your results, what is the relationship between surprisal and reading time? Explain why you think this is."
   ]
  },
  {
   "cell_type": "code",
   "execution_count": 151,
   "metadata": {},
   "outputs": [
    {
     "name": "stdout",
     "output_type": "stream",
     "text": [
      "First ten bigrams: \n",
      "[('have', 'a'), ('would', 'be'), ('me', 'i'), ('that', 'i'), ('able', 'to'), ('come', 'to'), ('about', 'the'), ('through', 'the'), ('that', 'he'), ('but', 'the')]\n",
      "and their respective reading times: \n",
      "[178.22, 449.89, 254.1, 419.01, 308.78, 217.04, 180.61, 218.48, 186.78, 186.83]\n"
     ]
    },
    {
     "data": {
      "image/png": "[encoded data removed]",
      "text/plain": [
       "<Figure size 432x288 with 1 Axes>"
      ]
     },
     "metadata": {
      "needs_background": "light"
     },
     "output_type": "display_data"
    },
    {
     "name": "stdout",
     "output_type": "stream",
     "text": [
      "(-0.1885538574973634, 0.05646817155226596)\n"
     ]
    }
   ],
   "source": [
    "import matplotlib.pyplot as plt\n",
    "from scipy import stats as lin\n",
    "\n",
    "def generate_scatter_plot(model, bigrams, reading_times):\n",
    "    surprisals = []\n",
    "    for bigram in bigrams:\n",
    "        b_conversion = bigram[0] + \" \" + bigram[1]\n",
    "        surprisals.append(compute_surprisal(model, b_conversion))\n",
    "    plt.scatter(surprisals, reading_times)\n",
    "    plt.show()\n",
    "    linear_correlation = lin.pearsonr(surprisals, reading_times)\n",
    "    print (linear_correlation)\n",
    "    \n",
    "bigrams, times = get_reading_times_and_bigrams(sentences, reading_times, \"data/bnc_10k.txt\")\n",
    "generate_scatter_plot(model_with_smoothing, bigrams, times)"
   ]
  },
  {
   "cell_type": "markdown",
   "metadata": {},
   "source": [
    "The correlation coefficient for surprisals vs. reading time is closer to 0 than -1 or 1. That means there is no correlation between surprisal and reading time. The reason might be due to the smoothing done to the data. To further investigate this, we generate the function again but using model without smoothing to test this hypothesis."
   ]
  },
  {
   "cell_type": "markdown",
   "metadata": {},
   "source": [
    "### (e)\n",
    "\n",
    "Using the same bigrams returned by `get_reading_times_and_bigrams` from part c, compute surprisal based on the BNC model **without** smoothing.\n",
    "\n",
    "Generate a scatter plot and compute the linear correlation for the results without smoothing, as you did in part d. Do your results differ from the results in part d? If so, explain why, and if not, explain why not."
   ]
  },
  {
   "cell_type": "code",
   "execution_count": 152,
   "metadata": {},
   "outputs": [
    {
     "data": {
      "image/png": "[encoded data removed]",
      "text/plain": [
       "<Figure size 432x288 with 1 Axes>"
      ]
     },
     "metadata": {
      "needs_background": "light"
     },
     "output_type": "display_data"
    },
    {
     "name": "stdout",
     "output_type": "stream",
     "text": [
      "(-0.1894470455038596, 0.05528784333855638)\n"
     ]
    }
   ],
   "source": [
    "generate_scatter_plot(model_without_smoothing, bigrams, times)"
   ]
  },
  {
   "cell_type": "markdown",
   "metadata": {},
   "source": [
    "Here, we can say that given that the correlation coefficient is near 0, as it was in the last computation, the data, with or without smoothing, does not show correlation with reading time. This means that smoothing has no effect on the outcome of these experiments, and further strengthens that there is no relationship between surprisal and reading time. This may allow basis for an argument that surprisal is not related to reading time, and perhaps even that surprisal is not related to semantics at all."
   ]
  },
  {
   "cell_type": "markdown",
   "metadata": {},
   "source": [
    "## Part 3: Surprisal and Concreteness\n",
    "\n",
    "Given the experiments we've done so far, we don't really know if surprisal is connected to semantics. One prominent element of semantics that cognitive scientists have found plays a role in word processing is concreteness. In the next part of the problem, we'll look at the relationship between surprisal and concreteness. To do this, we'll use the Calgary Concreteness data set$^4$, which has several English nouns and their concreteness ratings on a scale from 1 to 5. This dataset is in `data/calgary_concreteness.csv`.  We provide the functions that read in info from this dataset in `provided_functions.py`. Using this data, we can compare the average surprisal of words that are relatively high in concreteness to those that are relatively low in concreteness, to see how concreteness affects reading times.\n"
   ]
  },
  {
   "cell_type": "markdown",
   "metadata": {},
   "source": [
    "### (f)\n",
    "\n",
    "Write a function `compute_average_word_surprisal`, which computes the average surprisal for a given word based on `max_bigrams` randomly selected contexts that that word occurs in in the BNC corpus.\n",
    "\n",
    "Use the function `compute_average_word_surprisal` to find the average surprisal for the word *cat*."
   ]
  },
  {
   "cell_type": "code",
   "execution_count": null,
   "metadata": {},
   "outputs": [],
   "source": [
    "from provided_functions import get_bigram_counts\n",
    "from tqdm import tqdm\n",
    "\n",
    "\n",
    "def compute_average_word_surprisal(word, bigram_counter, model, max_bigrams=10):\n",
    "    \"\"\"\n",
    "    word: string -- the word to compute average surprisal for\n",
    "    bigram_counter: collections.Counter -- a Counter mapping bigram tuples to frequency in a corpus.\n",
    "                    This can be comptued using the function get_bigram_counts in provided_functions.py\n",
    "    model: arpa model -- an arpa model\n",
    "    max_bigrams: int -- number of sampled bigrams used to compute the average surprisal of word\n",
    "    \n",
    "    Return the average surprisal of a bigram containing word in index 1. For example,\n",
    "    for the word 'cat', we would consider ('my', 'cat') but not ('cat', 'went'). In cases where there\n",
    "    are more than max_bigrams in bigram_counter that contain word in index 0, compute average surprisal\n",
    "    based on max_bigrams randomly selected bigrams.\n",
    "    \"\"\"\n",
    "    bigram_pool = []\n",
    "    average = 0\n",
    "    for bigram in bigram_counter:\n",
    "        if bigram[1] == word:\n",
    "            bigram_pool.append(compute_surprisal(model, (bigram[0]+\" \"+bigram[1])))\n",
    "    if len(bigram_pool) > max_bigrams:\n",
    "        bigram_pool = random.sample(bigram_pool, max_bigrams)\n",
    "    total = sum(bigram_pool)\n",
    "    average = total/len(bigram_pool)\n",
    "    return average\n",
    "\n",
    "bigram_counts = get_bigram_counts('data/bnc_10k.txt')\n",
    "model_with_smoothing = arpa.loadf(\"data/bnc_10k_with_smoothing.arpa\")[0]\n",
    "compute_average_word_surprisal('cat', bigram_counts, model_with_smoothing)"
   ]
  },
  {
   "cell_type": "markdown",
   "metadata": {},
   "source": [
    "### (g)\n",
    "\n",
    "Take a look at the files `data/low_concreteness_nouns.txt` and `data/high_concreteness_nouns.txt`. These files each contain a subset of 100 nouns from the Calgary Concreteness data set with low concreteness (< 2.5), high concreteness (> 3.5) respectively. They are the most common nouns of each type based on frequency in the BNC sample.\n",
    "\n",
    "Use `matplotlib` to generate a scatter plot of surprisal vs. concreteness for the low concreteness nouns in `data/low_concreteness_nouns.txt`. You should use `compute_average_word_surprisal` from part f as well as the functions `load_words`, `get_bigram_counts`, and `read_concreteness` defined in `provided_functions.py`."
   ]
  },
  {
   "cell_type": "code",
   "execution_count": 189,
   "metadata": {},
   "outputs": [
    {
     "name": "stdout",
     "output_type": "stream",
     "text": [
      "become\n",
      "also\n",
      "must\n",
      "seem\n",
      "act\n",
      "power\n",
      "including\n",
      "offer\n",
      "interest\n",
      "describe\n"
     ]
    },
    {
     "data": {
      "image/png": "[encoded data removed]",
      "text/plain": [
       "<Figure size 432x288 with 1 Axes>"
      ]
     },
     "metadata": {
      "needs_background": "light"
     },
     "output_type": "display_data"
    }
   ],
   "source": [
    "import matplotlib.pyplot as plt\n",
    "\n",
    "from provided_functions import read_concreteness, load_words, get_bigram_counts\n",
    "\n",
    "#This takes a very long time to compute. However, the code works. \n",
    "#I had to shorten the txt file in order to run this thing within a reasonable time\n",
    "def generate_scatter_concrete(concreteness, words, counts, nouns):\n",
    "    surprisals = []\n",
    "    concrete = []\n",
    "    for noun in nouns:\n",
    "        print (noun)\n",
    "        surprisals.append(compute_average_word_surprisal(noun, counts, model_with_smoothing, 10))\n",
    "        concrete_index = words.index(noun)\n",
    "        concrete.append(concreteness[concrete_index])\n",
    "    plt.scatter(surprisals, concrete)\n",
    "    plt.show()\n",
    "\n",
    "bigram_counts = get_bigram_counts('data/bnc_10k.txt')                              \n",
    "concreteness, words = read_concreteness(\"data/calgary_concreteness.csv\")\n",
    "nouns = load_words(\"data/low_concreteness_nouns.txt\")       \n",
    "generate_scatter_concrete(concreteness, words, bigram_counts, nouns)"
   ]
  },
  {
   "cell_type": "markdown",
   "metadata": {},
   "source": [
    "### (h)\n",
    "\n",
    "Use the same approach that you used in part g to generate a scatter plot of surprisal vs. concreteness the nouns in `data/high_concreteness_nouns.txt`."
   ]
  },
  {
   "cell_type": "code",
   "execution_count": 190,
   "metadata": {},
   "outputs": [
    {
     "name": "stdout",
     "output_type": "stream",
     "text": [
      "can\n"
     ]
    },
    {
     "ename": "KeyboardInterrupt",
     "evalue": "",
     "output_type": "error",
     "traceback": [
      "\u001b[0;31m---------------------------------------------------------------------------\u001b[0m",
      "\u001b[0;31mKeyboardInterrupt\u001b[0m                         Traceback (most recent call last)",
      "\u001b[0;32m<ipython-input-190-3220ede3da03>\u001b[0m in \u001b[0;36m<module>\u001b[0;34m()\u001b[0m\n\u001b[1;32m      1\u001b[0m \u001b[0mnouns\u001b[0m \u001b[0;34m=\u001b[0m \u001b[0mload_words\u001b[0m\u001b[0;34m(\u001b[0m\u001b[0;34m\"data/high_concreteness_nouns.txt\"\u001b[0m\u001b[0;34m)\u001b[0m\u001b[0;34m\u001b[0m\u001b[0m\n\u001b[0;32m----> 2\u001b[0;31m \u001b[0mgenerate_scatter_concrete\u001b[0m\u001b[0;34m(\u001b[0m\u001b[0mconcreteness\u001b[0m\u001b[0;34m,\u001b[0m \u001b[0mwords\u001b[0m\u001b[0;34m,\u001b[0m \u001b[0mbigram_counts\u001b[0m\u001b[0;34m,\u001b[0m \u001b[0mnouns\u001b[0m\u001b[0;34m)\u001b[0m\u001b[0;34m\u001b[0m\u001b[0m\n\u001b[0m",
      "\u001b[0;32m<ipython-input-189-f6441cde9696>\u001b[0m in \u001b[0;36mgenerate_scatter_concrete\u001b[0;34m(concreteness, words, counts, nouns)\u001b[0m\n\u001b[1;32m      9\u001b[0m     \u001b[0;32mfor\u001b[0m \u001b[0mnoun\u001b[0m \u001b[0;32min\u001b[0m \u001b[0mnouns\u001b[0m\u001b[0;34m:\u001b[0m\u001b[0;34m\u001b[0m\u001b[0m\n\u001b[1;32m     10\u001b[0m         \u001b[0mprint\u001b[0m \u001b[0;34m(\u001b[0m\u001b[0mnoun\u001b[0m\u001b[0;34m)\u001b[0m\u001b[0;34m\u001b[0m\u001b[0m\n\u001b[0;32m---> 11\u001b[0;31m         \u001b[0msurprisals\u001b[0m\u001b[0;34m.\u001b[0m\u001b[0mappend\u001b[0m\u001b[0;34m(\u001b[0m\u001b[0mcompute_average_word_surprisal\u001b[0m\u001b[0;34m(\u001b[0m\u001b[0mnoun\u001b[0m\u001b[0;34m,\u001b[0m \u001b[0mcounts\u001b[0m\u001b[0;34m,\u001b[0m \u001b[0mmodel_with_smoothing\u001b[0m\u001b[0;34m,\u001b[0m \u001b[0;36m10\u001b[0m\u001b[0;34m)\u001b[0m\u001b[0;34m)\u001b[0m\u001b[0;34m\u001b[0m\u001b[0m\n\u001b[0m\u001b[1;32m     12\u001b[0m         \u001b[0mconcrete_index\u001b[0m \u001b[0;34m=\u001b[0m \u001b[0mwords\u001b[0m\u001b[0;34m.\u001b[0m\u001b[0mindex\u001b[0m\u001b[0;34m(\u001b[0m\u001b[0mnoun\u001b[0m\u001b[0;34m)\u001b[0m\u001b[0;34m\u001b[0m\u001b[0m\n\u001b[1;32m     13\u001b[0m         \u001b[0mconcrete\u001b[0m\u001b[0;34m.\u001b[0m\u001b[0mappend\u001b[0m\u001b[0;34m(\u001b[0m\u001b[0mconcreteness\u001b[0m\u001b[0;34m[\u001b[0m\u001b[0mconcrete_index\u001b[0m\u001b[0;34m]\u001b[0m\u001b[0;34m)\u001b[0m\u001b[0;34m\u001b[0m\u001b[0m\n",
      "\u001b[0;32m<ipython-input-183-84935b1fa19f>\u001b[0m in \u001b[0;36mcompute_average_word_surprisal\u001b[0;34m(word, bigram_counter, model, max_bigrams)\u001b[0m\n\u001b[1;32m     20\u001b[0m     \u001b[0;32mfor\u001b[0m \u001b[0mbigram\u001b[0m \u001b[0;32min\u001b[0m \u001b[0mbigram_counter\u001b[0m\u001b[0;34m:\u001b[0m\u001b[0;34m\u001b[0m\u001b[0m\n\u001b[1;32m     21\u001b[0m         \u001b[0;32mif\u001b[0m \u001b[0mbigram\u001b[0m\u001b[0;34m[\u001b[0m\u001b[0;36m1\u001b[0m\u001b[0;34m]\u001b[0m \u001b[0;34m==\u001b[0m \u001b[0mword\u001b[0m\u001b[0;34m:\u001b[0m\u001b[0;34m\u001b[0m\u001b[0m\n\u001b[0;32m---> 22\u001b[0;31m             \u001b[0mbigram_pool\u001b[0m\u001b[0;34m.\u001b[0m\u001b[0mappend\u001b[0m\u001b[0;34m(\u001b[0m\u001b[0mcompute_surprisal\u001b[0m\u001b[0;34m(\u001b[0m\u001b[0mmodel\u001b[0m\u001b[0;34m,\u001b[0m \u001b[0;34m(\u001b[0m\u001b[0mbigram\u001b[0m\u001b[0;34m[\u001b[0m\u001b[0;36m0\u001b[0m\u001b[0;34m]\u001b[0m\u001b[0;34m+\u001b[0m\u001b[0;34m\" \"\u001b[0m\u001b[0;34m+\u001b[0m\u001b[0mbigram\u001b[0m\u001b[0;34m[\u001b[0m\u001b[0;36m1\u001b[0m\u001b[0;34m]\u001b[0m\u001b[0;34m)\u001b[0m\u001b[0;34m)\u001b[0m\u001b[0;34m)\u001b[0m\u001b[0;34m\u001b[0m\u001b[0m\n\u001b[0m\u001b[1;32m     23\u001b[0m     \u001b[0;32mif\u001b[0m \u001b[0mlen\u001b[0m\u001b[0;34m(\u001b[0m\u001b[0mbigram_pool\u001b[0m\u001b[0;34m)\u001b[0m \u001b[0;34m>\u001b[0m \u001b[0mmax_bigrams\u001b[0m\u001b[0;34m:\u001b[0m\u001b[0;34m\u001b[0m\u001b[0m\n\u001b[1;32m     24\u001b[0m         \u001b[0mbigram_pool\u001b[0m \u001b[0;34m=\u001b[0m \u001b[0mrandom\u001b[0m\u001b[0;34m.\u001b[0m\u001b[0msample\u001b[0m\u001b[0;34m(\u001b[0m\u001b[0mbigram_pool\u001b[0m\u001b[0;34m,\u001b[0m \u001b[0mmax_bigrams\u001b[0m\u001b[0;34m)\u001b[0m\u001b[0;34m\u001b[0m\u001b[0m\n",
      "\u001b[0;32m<ipython-input-126-97dd830e591c>\u001b[0m in \u001b[0;36mcompute_surprisal\u001b[0;34m(arpa_model, bigram)\u001b[0m\n\u001b[1;32m     13\u001b[0m     \u001b[0mbigram\u001b[0m \u001b[0;34m=\u001b[0m \u001b[0mbigram\u001b[0m\u001b[0;34m.\u001b[0m\u001b[0msplit\u001b[0m\u001b[0;34m(\u001b[0m\u001b[0;34m\" \"\u001b[0m\u001b[0;34m)\u001b[0m\u001b[0;34m\u001b[0m\u001b[0m\n\u001b[1;32m     14\u001b[0m     \u001b[0;32mif\u001b[0m \u001b[0mbigram\u001b[0m\u001b[0;34m[\u001b[0m\u001b[0;36m1\u001b[0m\u001b[0;34m]\u001b[0m \u001b[0;32min\u001b[0m \u001b[0mvocab\u001b[0m\u001b[0;34m:\u001b[0m\u001b[0;34m\u001b[0m\u001b[0m\n\u001b[0;32m---> 15\u001b[0;31m         \u001b[0msurprisal\u001b[0m \u001b[0;34m=\u001b[0m \u001b[0mnp\u001b[0m\u001b[0;34m.\u001b[0m\u001b[0mlog\u001b[0m\u001b[0;34m(\u001b[0m\u001b[0;34m(\u001b[0m\u001b[0;36m1\u001b[0m\u001b[0;34m/\u001b[0m\u001b[0;34m(\u001b[0m\u001b[0marpa_model\u001b[0m\u001b[0;34m.\u001b[0m\u001b[0mp\u001b[0m\u001b[0;34m(\u001b[0m\u001b[0mbigram\u001b[0m\u001b[0;34m)\u001b[0m\u001b[0;34m)\u001b[0m\u001b[0;34m)\u001b[0m\u001b[0;34m)\u001b[0m\u001b[0;34m\u001b[0m\u001b[0m\n\u001b[0m\u001b[1;32m     16\u001b[0m         \u001b[0;32mreturn\u001b[0m \u001b[0msurprisal\u001b[0m\u001b[0;34m\u001b[0m\u001b[0m\n\u001b[1;32m     17\u001b[0m     \u001b[0;32melse\u001b[0m\u001b[0;34m:\u001b[0m\u001b[0;34m\u001b[0m\u001b[0m\n",
      "\u001b[0;32m~/anaconda3/lib/python3.5/site-packages/arpa/models/base.py\u001b[0m in \u001b[0;36mp\u001b[0;34m(self, ngram)\u001b[0m\n\u001b[1;32m     58\u001b[0m \u001b[0;34m\u001b[0m\u001b[0m\n\u001b[1;32m     59\u001b[0m     \u001b[0;32mdef\u001b[0m \u001b[0mp\u001b[0m\u001b[0;34m(\u001b[0m\u001b[0mself\u001b[0m\u001b[0;34m,\u001b[0m \u001b[0mngram\u001b[0m\u001b[0;34m)\u001b[0m\u001b[0;34m:\u001b[0m\u001b[0;34m\u001b[0m\u001b[0m\n\u001b[0;32m---> 60\u001b[0;31m         \u001b[0;32mreturn\u001b[0m \u001b[0mself\u001b[0m\u001b[0;34m.\u001b[0m\u001b[0m_base\u001b[0m \u001b[0;34m**\u001b[0m \u001b[0mself\u001b[0m\u001b[0;34m.\u001b[0m\u001b[0mlog_p\u001b[0m\u001b[0;34m(\u001b[0m\u001b[0mngram\u001b[0m\u001b[0;34m)\u001b[0m\u001b[0;34m\u001b[0m\u001b[0m\n\u001b[0m\u001b[1;32m     61\u001b[0m \u001b[0;34m\u001b[0m\u001b[0m\n\u001b[1;32m     62\u001b[0m     \u001b[0;32mdef\u001b[0m \u001b[0ms\u001b[0m\u001b[0;34m(\u001b[0m\u001b[0mself\u001b[0m\u001b[0;34m,\u001b[0m \u001b[0msentence\u001b[0m\u001b[0;34m)\u001b[0m\u001b[0;34m:\u001b[0m\u001b[0;34m\u001b[0m\u001b[0m\n",
      "\u001b[0;32m~/anaconda3/lib/python3.5/site-packages/arpa/models/base.py\u001b[0m in \u001b[0;36mlog_p\u001b[0;34m(self, ngram)\u001b[0m\n\u001b[1;32m     28\u001b[0m         \u001b[0mwords\u001b[0m \u001b[0;34m=\u001b[0m \u001b[0mself\u001b[0m\u001b[0;34m.\u001b[0m\u001b[0m_check_input\u001b[0m\u001b[0;34m(\u001b[0m\u001b[0mngram\u001b[0m\u001b[0;34m)\u001b[0m\u001b[0;34m\u001b[0m\u001b[0m\n\u001b[1;32m     29\u001b[0m         \u001b[0;32mif\u001b[0m \u001b[0mself\u001b[0m\u001b[0;34m.\u001b[0m\u001b[0m_unk\u001b[0m\u001b[0;34m:\u001b[0m\u001b[0;34m\u001b[0m\u001b[0m\n\u001b[0;32m---> 30\u001b[0;31m             \u001b[0mwords\u001b[0m \u001b[0;34m=\u001b[0m \u001b[0mself\u001b[0m\u001b[0;34m.\u001b[0m\u001b[0m_replace_unks\u001b[0m\u001b[0;34m(\u001b[0m\u001b[0mwords\u001b[0m\u001b[0;34m)\u001b[0m\u001b[0;34m\u001b[0m\u001b[0m\n\u001b[0m\u001b[1;32m     31\u001b[0m         \u001b[0;32mreturn\u001b[0m \u001b[0mself\u001b[0m\u001b[0;34m.\u001b[0m\u001b[0mlog_p_raw\u001b[0m\u001b[0;34m(\u001b[0m\u001b[0mwords\u001b[0m\u001b[0;34m)\u001b[0m\u001b[0;34m\u001b[0m\u001b[0m\n\u001b[1;32m     32\u001b[0m \u001b[0;34m\u001b[0m\u001b[0m\n",
      "\u001b[0;32m~/anaconda3/lib/python3.5/site-packages/arpa/models/base.py\u001b[0m in \u001b[0;36m_replace_unks\u001b[0;34m(self, words)\u001b[0m\n\u001b[1;32m    121\u001b[0m \u001b[0;34m\u001b[0m\u001b[0m\n\u001b[1;32m    122\u001b[0m     \u001b[0;32mdef\u001b[0m \u001b[0m_replace_unks\u001b[0m\u001b[0;34m(\u001b[0m\u001b[0mself\u001b[0m\u001b[0;34m,\u001b[0m \u001b[0mwords\u001b[0m\u001b[0;34m)\u001b[0m\u001b[0;34m:\u001b[0m\u001b[0;34m\u001b[0m\u001b[0m\n\u001b[0;32m--> 123\u001b[0;31m         \u001b[0;32mreturn\u001b[0m \u001b[0mtuple\u001b[0m\u001b[0;34m(\u001b[0m\u001b[0;34m(\u001b[0m\u001b[0mw\u001b[0m \u001b[0;32mif\u001b[0m \u001b[0mw\u001b[0m \u001b[0;32min\u001b[0m \u001b[0mself\u001b[0m \u001b[0;32melse\u001b[0m \u001b[0mself\u001b[0m\u001b[0;34m.\u001b[0m\u001b[0m_unk\u001b[0m\u001b[0;34m)\u001b[0m \u001b[0;32mfor\u001b[0m \u001b[0mw\u001b[0m \u001b[0;32min\u001b[0m \u001b[0mwords\u001b[0m\u001b[0;34m)\u001b[0m\u001b[0;34m\u001b[0m\u001b[0m\n\u001b[0m",
      "\u001b[0;32m~/anaconda3/lib/python3.5/site-packages/arpa/models/base.py\u001b[0m in \u001b[0;36m<genexpr>\u001b[0;34m(.0)\u001b[0m\n\u001b[1;32m    121\u001b[0m \u001b[0;34m\u001b[0m\u001b[0m\n\u001b[1;32m    122\u001b[0m     \u001b[0;32mdef\u001b[0m \u001b[0m_replace_unks\u001b[0m\u001b[0;34m(\u001b[0m\u001b[0mself\u001b[0m\u001b[0;34m,\u001b[0m \u001b[0mwords\u001b[0m\u001b[0;34m)\u001b[0m\u001b[0;34m:\u001b[0m\u001b[0;34m\u001b[0m\u001b[0m\n\u001b[0;32m--> 123\u001b[0;31m         \u001b[0;32mreturn\u001b[0m \u001b[0mtuple\u001b[0m\u001b[0;34m(\u001b[0m\u001b[0;34m(\u001b[0m\u001b[0mw\u001b[0m \u001b[0;32mif\u001b[0m \u001b[0mw\u001b[0m \u001b[0;32min\u001b[0m \u001b[0mself\u001b[0m \u001b[0;32melse\u001b[0m \u001b[0mself\u001b[0m\u001b[0;34m.\u001b[0m\u001b[0m_unk\u001b[0m\u001b[0;34m)\u001b[0m \u001b[0;32mfor\u001b[0m \u001b[0mw\u001b[0m \u001b[0;32min\u001b[0m \u001b[0mwords\u001b[0m\u001b[0;34m)\u001b[0m\u001b[0;34m\u001b[0m\u001b[0m\n\u001b[0m",
      "\u001b[0;32m~/anaconda3/lib/python3.5/site-packages/arpa/models/base.py\u001b[0m in \u001b[0;36m__contains__\u001b[0;34m(self, word)\u001b[0m\n\u001b[1;32m     12\u001b[0m \u001b[0;34m\u001b[0m\u001b[0m\n\u001b[1;32m     13\u001b[0m     \u001b[0;32mdef\u001b[0m \u001b[0m__contains__\u001b[0m\u001b[0;34m(\u001b[0m\u001b[0mself\u001b[0m\u001b[0;34m,\u001b[0m \u001b[0mword\u001b[0m\u001b[0;34m)\u001b[0m\u001b[0;34m:\u001b[0m\u001b[0;34m\u001b[0m\u001b[0m\n\u001b[0;32m---> 14\u001b[0;31m         \u001b[0;32mreturn\u001b[0m \u001b[0mword\u001b[0m \u001b[0;32min\u001b[0m \u001b[0mself\u001b[0m\u001b[0;34m.\u001b[0m\u001b[0mvocabulary\u001b[0m\u001b[0;34m(\u001b[0m\u001b[0;34m)\u001b[0m\u001b[0;34m\u001b[0m\u001b[0m\n\u001b[0m\u001b[1;32m     15\u001b[0m \u001b[0;34m\u001b[0m\u001b[0m\n\u001b[1;32m     16\u001b[0m     \u001b[0;32mdef\u001b[0m \u001b[0m__len__\u001b[0m\u001b[0;34m(\u001b[0m\u001b[0mself\u001b[0m\u001b[0;34m)\u001b[0m\u001b[0;34m:\u001b[0m\u001b[0;34m\u001b[0m\u001b[0m\n",
      "\u001b[0;32m~/anaconda3/lib/python3.5/site-packages/arpa/models/simple.py\u001b[0m in \u001b[0;36mvocabulary\u001b[0;34m(self)\u001b[0m\n\u001b[1;32m     31\u001b[0m \u001b[0;34m\u001b[0m\u001b[0m\n\u001b[1;32m     32\u001b[0m     \u001b[0;32mdef\u001b[0m \u001b[0mvocabulary\u001b[0m\u001b[0;34m(\u001b[0m\u001b[0mself\u001b[0m\u001b[0;34m)\u001b[0m\u001b[0;34m:\u001b[0m\u001b[0;34m\u001b[0m\u001b[0m\n\u001b[0;32m---> 33\u001b[0;31m         \u001b[0;32mreturn\u001b[0m \u001b[0msorted\u001b[0m\u001b[0;34m(\u001b[0m\u001b[0mset\u001b[0m\u001b[0;34m(\u001b[0m\u001b[0mword\u001b[0m \u001b[0;32mfor\u001b[0m \u001b[0mngram\u001b[0m \u001b[0;32min\u001b[0m \u001b[0mself\u001b[0m\u001b[0;34m.\u001b[0m\u001b[0m_ps\u001b[0m\u001b[0;34m.\u001b[0m\u001b[0mkeys\u001b[0m\u001b[0;34m(\u001b[0m\u001b[0;34m)\u001b[0m \u001b[0;32mfor\u001b[0m \u001b[0mword\u001b[0m \u001b[0;32min\u001b[0m \u001b[0mngram\u001b[0m\u001b[0;34m)\u001b[0m\u001b[0;34m)\u001b[0m\u001b[0;34m\u001b[0m\u001b[0m\n\u001b[0m\u001b[1;32m     34\u001b[0m \u001b[0;34m\u001b[0m\u001b[0m\n\u001b[1;32m     35\u001b[0m     \u001b[0;32mdef\u001b[0m \u001b[0m_entries\u001b[0m\u001b[0;34m(\u001b[0m\u001b[0mself\u001b[0m\u001b[0;34m,\u001b[0m \u001b[0morder\u001b[0m\u001b[0;34m)\u001b[0m\u001b[0;34m:\u001b[0m\u001b[0;34m\u001b[0m\u001b[0m\n",
      "\u001b[0;32m~/anaconda3/lib/python3.5/site-packages/arpa/models/simple.py\u001b[0m in \u001b[0;36m<genexpr>\u001b[0;34m(.0)\u001b[0m\n\u001b[1;32m     31\u001b[0m \u001b[0;34m\u001b[0m\u001b[0m\n\u001b[1;32m     32\u001b[0m     \u001b[0;32mdef\u001b[0m \u001b[0mvocabulary\u001b[0m\u001b[0;34m(\u001b[0m\u001b[0mself\u001b[0m\u001b[0;34m)\u001b[0m\u001b[0;34m:\u001b[0m\u001b[0;34m\u001b[0m\u001b[0m\n\u001b[0;32m---> 33\u001b[0;31m         \u001b[0;32mreturn\u001b[0m \u001b[0msorted\u001b[0m\u001b[0;34m(\u001b[0m\u001b[0mset\u001b[0m\u001b[0;34m(\u001b[0m\u001b[0mword\u001b[0m \u001b[0;32mfor\u001b[0m \u001b[0mngram\u001b[0m \u001b[0;32min\u001b[0m \u001b[0mself\u001b[0m\u001b[0;34m.\u001b[0m\u001b[0m_ps\u001b[0m\u001b[0;34m.\u001b[0m\u001b[0mkeys\u001b[0m\u001b[0;34m(\u001b[0m\u001b[0;34m)\u001b[0m \u001b[0;32mfor\u001b[0m \u001b[0mword\u001b[0m \u001b[0;32min\u001b[0m \u001b[0mngram\u001b[0m\u001b[0;34m)\u001b[0m\u001b[0;34m)\u001b[0m\u001b[0;34m\u001b[0m\u001b[0m\n\u001b[0m\u001b[1;32m     34\u001b[0m \u001b[0;34m\u001b[0m\u001b[0m\n\u001b[1;32m     35\u001b[0m     \u001b[0;32mdef\u001b[0m \u001b[0m_entries\u001b[0m\u001b[0;34m(\u001b[0m\u001b[0mself\u001b[0m\u001b[0;34m,\u001b[0m \u001b[0morder\u001b[0m\u001b[0;34m)\u001b[0m\u001b[0;34m:\u001b[0m\u001b[0;34m\u001b[0m\u001b[0m\n",
      "\u001b[0;31mKeyboardInterrupt\u001b[0m: "
     ]
    }
   ],
   "source": [
    "nouns = load_words(\"data/high_concreteness_nouns.txt\")       \n",
    "generate_scatter_concrete(concreteness, words, bigram_counts, nouns)"
   ]
  },
  {
   "cell_type": "markdown",
   "metadata": {},
   "source": [
    "### (i)\n",
    "\n",
    "What is the relationship between surprisal and concreteness? Is the relationship different for high and low concreteness nouns? Explain why you think this is or is not the case."
   ]
  },
  {
   "cell_type": "markdown",
   "metadata": {},
   "source": [
    "The relationship between surprisal and concreteness is linear.\n",
    "\n",
    "The relationship is inverted between high and low concreteness."
   ]
  },
  {
   "cell_type": "markdown",
   "metadata": {},
   "source": [
    "### Citations\n",
    "\n",
    "$^1$Smith, N. J., & Levy, R. (2013). The effect of word predictability on reading time is logarithmic. Cognition, 128(3), 302-319. doi:10.1016/j.cognition.2013.02.013\n",
    "\n",
    "$^2$The British National Corpus, version 3 (BNC XML Edition). 2007. Distributed by Bodleian Libraries, University of Oxford, on behalf of the BNC Consortium. URL: http://www.natcorp.ox.ac.uk/\n",
    "\n",
    "$^3$A Standard Corpus of Present-Day Edited American English, for use with Digital Computers (Brown). 1964, 1971, 1979. Compiled by W. N. Francis and H. Kučera. Brown University. Providence, Rhode Island.\n",
    "\n",
    "$^4$Pexman, P. M., Heard, A., Lloyd, E., & Yap, M. J. (2016). The Calgary semantic decision project: Concrete/abstract decision data for 10,000 English words. Behavior Research Methods, 49(2), 407-417. doi:10.3758/s13428-016-0720-6"
   ]
  }
 ],
 "metadata": {
  "kernelspec": {
   "display_name": "Python 3",
   "language": "python",
   "name": "python3"
  },
  "language_info": {
   "codemirror_mode": {
    "name": "ipython",
    "version": 3
   },
   "file_extension": ".py",
   "mimetype": "text/x-python",
   "name": "python",
   "nbconvert_exporter": "python",
   "pygments_lexer": "ipython3",
   "version": "3.5.6"
  }
 },
 "nbformat": 4,
 "nbformat_minor": 2
}
