{
 "cells": [
  {
   "cell_type": "markdown",
   "metadata": {},
   "source": [
    "## COG403: Problem 1 of Problem Set 2: Semantic Representations\n",
    "\n",
    "### All 3 problems for Problem Set 2 Due 1 November 2018, 2:00pm"
   ]
  },
  {
   "cell_type": "markdown",
   "metadata": {},
   "source": [
    "In this problem, we will look at three different approaches for generating word vectors. We will then evaluate these word vectors on their ability to match human similarity judgments on a set of noun-noun pairs.  Specifically, we will use a subset of SimLex-999$^1$ that contains animal nouns and has average similarity judgments on pairs of these obtained from human participants.  "
   ]
  },
  {
   "cell_type": "markdown",
   "metadata": {},
   "source": [
    "### (a)\n",
    "\n",
    "Write a function `generate_WN_vectors()` to generate feature vectors based on Word Net features$^2$. Generate these vectors and then save them in `data/word_net.vec` using the `write_vectors` function in `provided_functions.py`.\n",
    "\n",
    "Word net features are in the file `data/all_catf_norm_prob_lexicon_cs.all.txt`. The format is:\n",
    "    $$<word>:<part\\_of\\_speech>\\textrm{ }<feat1\\_name>:<feat1\\_val>,<feat2\\_name:feat2\\_val>,...$$\n",
    "\n",
    "Note that the feature names may contain spaces, which can be confusing, since the $<word>:<part\\_of\\_speech>$ is separated from the list of features by a space.\n",
    "\n",
    "Your approach for generating feature vectors for wordnet features should be a two-step process. First, collect all the features in the file `data/all_catf_norm_prob_lexicon_cs.all.txt` that occur with the words in `data/vocab.txt` (you can load the vocabulary using the `get_vocab` function defined in `provided_functions.py`). Then, generate feature vectors where each field in a vector corresponds to a feature, and the value in the field is the feature value. For example, if you found the features `['animal', 'mammal', 'carnivore']`, your vectors for *cat* and *rat* could be:\n",
    "\n",
    "* *cat*: `[0.18, 0.07, 0.02]`\n",
    "* *rat*: `[0.18, 0.07, 0]`\n",
    "\n",
    "Not all features will be listed for all animals. In these cases, set the field to be 0.0.\n",
    "\n",
    "Please print your vector for *cat*."
   ]
  },
  {
   "cell_type": "code",
   "execution_count": 8,
   "metadata": {
    "scrolled": true
   },
   "outputs": [
    {
     "data": {
      "text/plain": [
       "array([0.031851, 0.      , 0.      , 0.      , 0.      , 0.      ,\n",
       "       0.      , 0.      , 0.180627, 0.130518, 0.130518, 0.100903,\n",
       "       0.09453 , 0.061783, 0.051288, 0.044947, 0.      , 0.073416,\n",
       "       0.071086, 0.      , 0.      , 0.      , 0.      , 0.      ,\n",
       "       0.      , 0.      , 0.      , 0.      , 0.      , 0.      ,\n",
       "       0.      , 0.      , 0.024253, 0.      , 0.      , 0.      ,\n",
       "       0.      , 0.      , 0.      , 0.      , 0.      , 0.      ,\n",
       "       0.      , 0.      , 0.      , 0.      , 0.      , 0.      ,\n",
       "       0.      , 0.      , 0.      , 0.      , 0.      , 0.      ,\n",
       "       0.      , 0.      , 0.      , 0.      , 0.      , 0.      ,\n",
       "       0.      , 0.      , 0.      , 0.      , 0.      , 0.      ,\n",
       "       0.      , 0.      , 0.      , 0.      , 0.002853, 0.001427,\n",
       "       0.      , 0.      , 0.      , 0.      , 0.      , 0.      ,\n",
       "       0.      , 0.      , 0.      , 0.      , 0.      , 0.      ,\n",
       "       0.      , 0.      , 0.      , 0.      , 0.      , 0.      ,\n",
       "       0.      , 0.      , 0.      , 0.      , 0.      , 0.      ,\n",
       "       0.      , 0.      , 0.      , 0.      , 0.      , 0.      ,\n",
       "       0.      , 0.      , 0.      , 0.      , 0.      , 0.      ,\n",
       "       0.      , 0.      , 0.      , 0.      , 0.      , 0.      ,\n",
       "       0.      , 0.      , 0.      , 0.      , 0.      , 0.      ,\n",
       "       0.      , 0.      , 0.      , 0.      , 0.      , 0.      ,\n",
       "       0.      , 0.      , 0.      , 0.      , 0.      , 0.      ,\n",
       "       0.      , 0.      , 0.      , 0.      , 0.      , 0.      ,\n",
       "       0.      , 0.      , 0.      , 0.      , 0.      , 0.      ,\n",
       "       0.      , 0.      , 0.      , 0.      , 0.      , 0.      ,\n",
       "       0.      , 0.      , 0.      , 0.      , 0.      , 0.      ,\n",
       "       0.      ])"
      ]
     },
     "execution_count": 8,
     "metadata": {},
     "output_type": "execute_result"
    }
   ],
   "source": [
    "import re\n",
    "import numpy as np\n",
    "import provided_functions as f \n",
    "vocabulary = f.get_vocab(\"data/vocab.txt\")\n",
    "length_of_vocab = len(vocabulary)\n",
    "def generate_WN_vectors():\n",
    "    with open(\"data/all_catf_norm_prob_lexicon_cs.all.txt\") as f:\n",
    "        text_to_list = []\n",
    "        for line in f:\n",
    "            line = line.split(\",\\n\")\n",
    "            if line[0] != \"\\n\":\n",
    "                text_to_list.append(line[0])\n",
    "    word_feature = []\n",
    "    for entry in text_to_list:\n",
    "        temp_list = []\n",
    "        entry = re.split(':[A-Z]*\\s', entry)\n",
    "        temp_list.append(entry[0])\n",
    "        temp_feature = re.split(\",\", entry[1])\n",
    "        temp_list.extend(temp_feature)\n",
    "        word_feature.append(temp_list)\n",
    "    vector_features = []\n",
    "    for word in word_feature:\n",
    "        if word[0] in vocabulary:\n",
    "            for i in range(1, len(word)):\n",
    "                feature_vector = re.split(\"[#0-9]*:\", word[i])\n",
    "                if feature_vector[0] not in vector_features:\n",
    "                    vector_features.append(feature_vector[0])\n",
    "    word_vector_dict = {}\n",
    "    length_of_features = len(vector_features)\n",
    "    for word in vector_features:\n",
    "        word_vector_dict[word] = np.zeros((length_of_features,), dtype = float)\n",
    "    for word in word_feature:\n",
    "        if word[0] in vocabulary:\n",
    "            for i in range(1, len(word)):\n",
    "                feature_vector = re.split(\"[#0-9]*:\", word[i])\n",
    "                word_vector_dict[word[0]][vector_features.index(feature_vector[0])] = feature_vector[1]\n",
    "                \n",
    "    return word_vector_dict\n",
    "\n",
    "WN_vectors = generate_WN_vectors()\n",
    "f.write_vectors(\"data/word_net.vec\", WN_vectors)\n",
    "WN_vectors['cat']"
   ]
  },
  {
   "cell_type": "markdown",
   "metadata": {},
   "source": [
    "### (b)\n",
    "\n",
    "Write a function `generate_SWOW_vectors()` to generate feature vectors based on Small World of Words$^3$ features. Generate these vectors and then save them in `data/small_world_of_words.vec` using the `write_vectors` function in `provided_functions.py`.\n",
    "\n",
    "The file `data/SWOW-EN.R100.csv` contains cues and responses for a free association task hosted online. In the task, the participant is shown a cue word and asked to respond by listing three response words.  (You can try this out yourself at http://www.smallworldofwords.org!)\n",
    "\n",
    "You should start by generating a zero-valued square matrix of cues by responses where the cues and responses are the words in `vocab.txt` (note: only save vectors for words in `vocab.txt` that occur as cues). Then read through the `data/SWOW-EN.R100.csv` file, and update the row in the matrix corresponding to each cue word, by adding 1 to the count of each response word that appears for that cue. For example, if your vocab (and thus the heading of your matrix columns) was `['cat', 'dog', 'goat', 'fluffy', 'kitten']`, and the first line in the data set had the cue *cat* and the responses [*dog*, *kitten*, *fluffy*], your updated vectors would look like this:\n",
    " * *cat*: [0, 1, 0, 1, 1]\n",
    " * *dog*: [0, 0, 0, 0, 0]\n",
    " * *goat*: [0, 0, 0, 0, 0]\n",
    " * *fluffy*: [0, 0, 0, 0, 0]\n",
    " * *kitten*: [0, 0, 0, 0, 0] \n",
    " \n",
    "After generating your cue-to-response vectors, set the diagonal entries of the matrix to be the highest value of each row; that is, the entry for the cue itself in the response vector of the cue should be set to the highest response count for that cue. This is done to make the vectors more appropriate for assessing similarity. We want the word *cat* to be the most similar to itself.\n",
    "\n",
    "For example, if we have the following vector for *cat* (assuming the same feature order as in the example above):\n",
    " * *cat*: [0, 30, 1, 20, 15],\n",
    " \n",
    "we would set the response count for *cat* to the max response count, 30, to get the following:\n",
    " * *cat*: [30, 30, 1, 20, 15]\n",
    "\n",
    "\n",
    "Please print your SWOW vector for *cat* as well as the value associated with *cat* in the cat vector. Make sure to label these two things clearly."
   ]
  },
  {
   "cell_type": "code",
   "execution_count": 59,
   "metadata": {},
   "outputs": [
    {
     "name": "stdout",
     "output_type": "stream",
     "text": [
      "The SWOW vector for cat is: \n",
      "[ 0  0  4  0  0 10 61  6  0  0  1  0 12  0  0  0  0  0  1  0  0  1  1  0\n",
      "  0  0  0  0  0  0  0  0  0  0  0  0  0  0  0  0 61  0  0  0  0  0  0  0\n",
      "  0  0]\n",
      " and the value associated with cat in the cat vector is:  61\n"
     ]
    }
   ],
   "source": [
    "import provided_functions as f \n",
    "import csv\n",
    "import numpy as np\n",
    "vocabulary = f.get_vocab(\"data/vocab.txt\")\n",
    "length_vocab = len(vocabulary)\n",
    "\n",
    "def generate_SWOW_vectors():\n",
    "    cues_dict = {}\n",
    "    for i in vocabulary:\n",
    "        cues_dict[i] = np.zeros((length_vocab,), dtype=int)\n",
    "    \n",
    "    with open('data/SWOW-EN.R100.csv', 'rt') as f:\n",
    "        reader = csv.reader(f)\n",
    "        SWOW_entries = list(reader)\n",
    "    cues_response = []\n",
    "    for index in SWOW_entries:\n",
    "        if index[-4] in vocabulary:\n",
    "            cues_response.append([index[-4], index[-3],index[-2],index[-1]])\n",
    "    \n",
    "    for cr in cues_response:\n",
    "        for index in range(1, len(cr)):\n",
    "            if cr[index] in vocabulary:\n",
    "                cues_dict[cr[0]][vocabulary.index(cr[index])] += 1\n",
    "    for key, value in cues_dict.items():\n",
    "        value[vocabulary.index(key)] = np.amax(value)\n",
    "    return cues_dict\n",
    "\n",
    "            \n",
    "cues_dict = generate_SWOW_vectors()\n",
    "cat_vector = cues_dict[\"cat\"]\n",
    "cat_value = cues_dict[\"cat\"][vocabulary.index(\"cat\")]\n",
    "print (\"The SWOW vector for cat is: \\n\"\n",
    "       +str(cat_vector)\n",
    "       +\"\\n and the value associated with cat in the cat vector is: \",\n",
    "       str(cat_value))\n",
    "f.write_vectors(\"data/small_world_of_words.vec\", cues_dict)"
   ]
  },
  {
   "cell_type": "markdown",
   "metadata": {},
   "source": [
    "### (c)\n",
    "\n",
    "Write a function `evaluate_vectors` that takes a set of vectors and evaluates them using SimLex-999. Write your function according to the description below."
   ]
  },
  {
   "cell_type": "code",
   "execution_count": 79,
   "metadata": {},
   "outputs": [],
   "source": [
    "import matplotlib.pyplot as plt\n",
    "from scipy.stats import pearsonr\n",
    "from sklearn.metrics.pairwise import cosine_similarity\n",
    "from numpy import dot\n",
    "from numpy.linalg import norm\n",
    "SIM_LEX_FILE = 'data/SimLex-999-Animals.txt'\n",
    "\n",
    "\n",
    "def evaluate_vectors(word_vector_dict):\n",
    "    \"\"\"\n",
    "    word_vector_dict: dict of str to list -- a dictionary mapping words to vectors.\n",
    "    \n",
    "    1. Iterate over the word pairs in the SimLex-999 Animal subset at `data/SimLex-999-Animals.txt`.\n",
    "       Compute the similarities between your word vectors for the word pairs using cosine similarity\n",
    "       (use `sklearn.metrics.pairwise.cosine_similarity`). Skip word pairs where one or both of the\n",
    "       vectors are missing from word_vector_dict.\n",
    "    2. Print the pearson correlation r, and the corresponding p value, between the SimLex-999\n",
    "       similarity scores and the cosine similarities for word pairs. (Use `scipy.stats.pearsonr`).\n",
    "       Please print \"Pearson r is: \", and \"with p value: \".\n",
    "    3. Use `matplotlib` to generate a plot of SimLex-999 similarity scores and cosine similarities\n",
    "       for word pairs.\n",
    "    \"\"\"\n",
    "    simlex_sim_scores = []\n",
    "    cos_sim_scores = np.array([])\n",
    "    with open (SIM_LEX_FILE, \"rt\") as f:\n",
    "        for line in f:\n",
    "            simlex = line.split(\"\\t\")\n",
    "            if ((simlex[0] in word_vector_dict) and (simlex[1] in word_vector_dict) ):\n",
    "                simlex_sim_scores.append(simlex[2].rstrip())\n",
    "                word1 = word_vector_dict[simlex[0]]\n",
    "                word2 = word_vector_dict[simlex[1]]\n",
    "                word1 = np.array(word1,dtype=float)\n",
    "                word2 = np.array(word2,dtype=float)\n",
    "                cos_sim = cosine_similarity([word1], [word2])\n",
    "                if cos_sim > 0.9:\n",
    "                    print (simlex[0], simlex[1], simlex[2])\n",
    "                cos_sim_scores = np.concatenate((cos_sim_scores,cos_sim),axis=None)\n",
    "    simlex_sim_scores = (np.float_(simlex_sim_scores))\n",
    "    correlation_coefficient, p_value = pearsonr(simlex_sim_scores, cos_sim_scores)      \n",
    "    print (\"Pearson r is: \" + str(correlation_coefficient) + \" with p value: \" + str(p_value))\n",
    "    \n",
    "    plt.scatter(simlex_sim_scores, cos_sim_scores)\n",
    "    plt.show()"
   ]
  },
  {
   "cell_type": "markdown",
   "metadata": {},
   "source": [
    "### (d)\n",
    "\n",
    "Run `evaluate_vectors` from part c on the WordNet vectors generated in part a. Use `load_vectors` defined in `provided_functions.py` to load the vectors."
   ]
  },
  {
   "cell_type": "code",
   "execution_count": 80,
   "metadata": {},
   "outputs": [
    {
     "name": "stdout",
     "output_type": "stream",
     "text": [
      "cow cattle 9.52\n",
      "\n",
      "mouse cat 1.12\n",
      "\n",
      "rat mouse 7.78\n",
      "\n",
      "cat lion 6.75\n",
      "\n",
      "bird turkey 6.58\n",
      "\n",
      "insect bee 6.07\n",
      "\n",
      "sheep cattle 4.77\n",
      "\n",
      "cow goat 2.93\n",
      "\n",
      "bee queen 3.27\n",
      "\n",
      "bee ant 2.78\n",
      "\n",
      "cat rabbit 2.37\n",
      "\n",
      "bird hen 7.03\n",
      "\n",
      "chicken steak 3.73\n",
      "\n",
      "hen turkey 6.13\n",
      "\n",
      "Pearson r is: 0.27187074663931066 with p value: 0.18861558125165806\n"
     ]
    },
    {
     "data": {
      "image/png": "[encoded data removed]",
      "text/plain": [
       "<Figure size 432x288 with 1 Axes>"
      ]
     },
     "metadata": {
      "needs_background": "light"
     },
     "output_type": "display_data"
    }
   ],
   "source": [
    "import provided_functions as f \n",
    "WN_vec = f.load_vectors(\"data/word_net.vec\")\n",
    "evaluate_vectors(WN_vec)"
   ]
  },
  {
   "cell_type": "markdown",
   "metadata": {},
   "source": [
    "### (e)\n",
    "\n",
    "Run `evaluate_vectors` from part c on the Small World of Words vectors generated in part b. Use `load_vectors` defined in `provided_vectors.py` to load the vectors."
   ]
  },
  {
   "cell_type": "code",
   "execution_count": 77,
   "metadata": {
    "scrolled": true
   },
   "outputs": [
    {
     "name": "stdout",
     "output_type": "stream",
     "text": [
      "horse mare 8.33\n",
      "\n",
      "horse colt 7.07\n",
      "\n",
      "bird hawk 7.85\n",
      "\n",
      "hound fox 2.38\n",
      "\n",
      "mink fur 6.83\n",
      "\n",
      "bee ant 2.78\n",
      "\n",
      "oil mink 1.23\n",
      "\n",
      "daughter kid 4.17\n",
      "\n",
      "chicken steak 3.73\n",
      "\n",
      "horse ox 3.02\n",
      "\n",
      "calf bull 4.93\n",
      "\n",
      "dog horse 2.38\n",
      "\n",
      "mouse management 0.48\n",
      "\n",
      "deck mouse 0.48\n",
      "\n",
      "container mouse 0.3\n",
      "\n",
      "Pearson r is: 0.30020703341442356 with p value: 0.08451655032349062\n"
     ]
    },
    {
     "data": {
      "image/png": "[encoded data removed]",
      "text/plain": [
       "<Figure size 432x288 with 1 Axes>"
      ]
     },
     "metadata": {
      "needs_background": "light"
     },
     "output_type": "display_data"
    }
   ],
   "source": [
    "import provided_functions as f\n",
    "SWOW_vec = f.load_vectors('data/small_world_of_words.vec')\n",
    "evaluate_vectors(SWOW_vec)"
   ]
  },
  {
   "cell_type": "markdown",
   "metadata": {},
   "source": [
    "### (f)\n",
    "\n",
    "Run `evaluate_vectors` from part c on word2vec vectors stored in `data/word2vec.vec`. Use `load_vectors` defined in `provided_functions.py` to load the vectors.\n",
    "\n",
    "These vectors are a subset of vectors from a 2017 paper by Fares$^4$ with:\n",
    " * dimension: 300\n",
    " * window: 5\n",
    " * corpus: Gigaword 5th Edition\n",
    " * vocab size: 261794\n",
    " * algorithm: Gensim Continuous Skipgram\n",
    " * lemmatization: True"
   ]
  },
  {
   "cell_type": "code",
   "execution_count": 1,
   "metadata": {
    "scrolled": true
   },
   "outputs": [
    {
     "ename": "NameError",
     "evalue": "name 'evaluate_vectors' is not defined",
     "output_type": "error",
     "traceback": [
      "\u001b[0;31m---------------------------------------------------------------------------\u001b[0m",
      "\u001b[0;31mNameError\u001b[0m                                 Traceback (most recent call last)",
      "\u001b[0;32m<ipython-input-1-e63fcb82febc>\u001b[0m in \u001b[0;36m<module>\u001b[0;34m()\u001b[0m\n\u001b[1;32m      1\u001b[0m \u001b[0;32mimport\u001b[0m \u001b[0mprovided_functions\u001b[0m \u001b[0;32mas\u001b[0m \u001b[0mf\u001b[0m\u001b[0;34m\u001b[0m\u001b[0m\n\u001b[1;32m      2\u001b[0m \u001b[0mW2_vec\u001b[0m \u001b[0;34m=\u001b[0m \u001b[0mf\u001b[0m\u001b[0;34m.\u001b[0m\u001b[0mload_vectors\u001b[0m\u001b[0;34m(\u001b[0m\u001b[0;34m'data/word2vec.vec'\u001b[0m\u001b[0;34m)\u001b[0m\u001b[0;34m\u001b[0m\u001b[0m\n\u001b[0;32m----> 3\u001b[0;31m \u001b[0mevaluate_vectors\u001b[0m\u001b[0;34m(\u001b[0m\u001b[0mW2_vec\u001b[0m\u001b[0;34m)\u001b[0m\u001b[0;34m\u001b[0m\u001b[0m\n\u001b[0m",
      "\u001b[0;31mNameError\u001b[0m: name 'evaluate_vectors' is not defined"
     ]
    }
   ],
   "source": [
    "import provided_functions as f\n",
    "W2_vec = f.load_vectors('data/word2vec.vec')\n",
    "evaluate_vectors(W2_vec)"
   ]
  },
  {
   "cell_type": "markdown",
   "metadata": {},
   "source": [
    "### (g)\n",
    "\n",
    " * 1. Compare the performance of the three vector spaces referring to both the results of your Pearson correlations and the scatterplots.\n",
    "\n",
    " * 2. For each features space, examine some example similarity comparisons and the corresponding word vectors. From your inspection, what do you think is responsible for the different performance of the vector spaces in this task? Show example noun-noun pairs that support your hypothesis about why each of the vector spaces performs well or does not perform well.  Explain how these examples support your hypotheses."
   ]
  },
  {
   "cell_type": "markdown",
   "metadata": {},
   "source": [
    "* 1. <br/>\n",
    "The performance goes as follows:\n",
    "\n",
    "* For d) data points for these vector spaces from word_net is skewed. Many points within the graph are uniformly at the top. A pearson correlation performance is hindered by these points. At a p-value of 0.19~, we can reject the alternative hypothesis that there is a correlation of r = 0.27~. Therefore, there is no correlation significant at the 90% or 95% confidence level. \n",
    "* For e), unlike d), the data points is skewed as many points within the correlation graph are uniformly at the bottom. Generally, the scatter plot appears as though there is a correlation. Given by the values of pearsonr, we can see this is not the case at the 95% confidence level as the p-value = 0.08451655032349062. However, I suspect outliers and zero-datapoints heavily affect the correlation coefficient and p-value. Such datapoints skew the data, and in removing them we may better see a p-value and correlation coefficient more reflective of the data. At the 90% confidence level, however, we may say that there is a positive correlation between simlex-999 and the cosine similarity scores of SWOW vectors at r = 0.3~. Such a correlation is statistically significant at the 90% level.\n",
    "* For f), unlike d) and e), has many datapoints available, and the data generally consistent with a correlation (e.g. no obvious outliers, no zero-points). Since the p-value is 0.0033110382715266892, at the 95% confidence level, we may conclude that data in word2vec has a significant correlation with simlex-999 data points, and the correlation coefficient is positive at r = 0.4893719058835222~.\n",
    "<br\\>\n",
    "* 2. \n",
    "Likewise from the previous answer, such a disprepancy in the vector space in WordNet has a large affect on the performance in this task. Some vectors, such as for mouse and cat have almost all data point that matches and therefore has a cosine similarity score close to 1. However, it has a simlex-99 score of 1.12. Such vectors affect the graph and skew the regression and ultimately hinders the performance of the model. \n",
    "In another case, outliers and zero cos_sim scores heavily influence the performance of the vector spaces. For example, horse and mare have a <0.1 cosine similarity score, lower than most Noun-Noun pairs in this data. Yet, simlex-999 scores it a 8.33. Ultimately, the zero-points of cosine similarity affects the performance. Such datapoints skew the regression of the data and ultimately hinders the performance of the model.\n",
    "In the W2_vec vector space, the datapoints and their cosine similarity scores are generally consistent with the rest of the data, i.e. no outliers or zero-scores. The data available is ultimately more than the WordNet and SWOW vectors. It regresses into a positive correlation at the p-value of 0.0033110382715266892, less than 0.05 level that allows us to come to the conclusion that such correlation of simlex-999 and cosine similarity scores of W2_vec is statistically significant at the 95% confidence level."
   ]
  },
  {
   "cell_type": "code",
   "execution_count": 81,
   "metadata": {},
   "outputs": [
    {
     "name": "stdout",
     "output_type": "stream",
     "text": [
      "WordNet Nouns example\n",
      "Mouse:\n",
      "['0.032359' '0.0' '0.0' '0.0' '0.0' '0.0' '0.0' '0.0' '0.183507'\n",
      " '0.132599' '0.132599' '0.102512' '0.096037' '0.062768' '0.052105'\n",
      " '0.045664' '0.0' '0.074587' '0.072219' '0.0' '0.0' '0.0' '0.0' '0.0'\n",
      " '0.0' '0.0' '0.0' '0.0' '0.0' '0.0' '0.0' '0.0' '0.0' '0.0' '0.0' '0.0'\n",
      " '0.0' '0.0' '0.0' '0.0' '0.0' '0.0' '0.0' '0.0' '0.0' '0.0' '0.0' '0.0'\n",
      " '0.0' '0.0' '0.0' '0.0' '0.0' '0.0' '0.0' '0.0' '0.0' '0.0' '0.0' '0.0'\n",
      " '0.0' '0.0' '0.0' '0.0' '0.0' '0.0' '0.0' '0.0' '0.011595' '0.001449'\n",
      " '0.0' '0.0' '0.0' '0.0' '0.0' '0.0' '0.0' '0.0' '0.0' '0.0' '0.0' '0.0'\n",
      " '0.0' '0.0' '0.0' '0.0' '0.0' '0.0' '0.0' '0.0' '0.0' '0.0' '0.0' '0.0'\n",
      " '0.0' '0.0' '0.0' '0.0' '0.0' '0.0' '0.0' '0.0' '0.0' '0.0' '0.0' '0.0'\n",
      " '0.0' '0.0' '0.0' '0.0' '0.0' '0.0' '0.0' '0.0' '0.0' '0.0' '0.0' '0.0'\n",
      " '0.0' '0.0' '0.0' '0.0' '0.0' '0.0' '0.0' '0.0' '0.0' '0.0' '0.0' '0.0'\n",
      " '0.0' '0.0' '0.0' '0.0' '0.0' '0.0' '0.0' '0.0' '0.0' '0.0' '0.0' '0.0'\n",
      " '0.0' '0.0' '0.0' '0.0' '0.0' '0.0' '0.0' '0.0' '0.0' '0.0' '0.0' '0.0'\n",
      " '0.0' '0.0' '0.0\\n']\n",
      "Cat:\n",
      "['0.048045' '0.0' '0.0' '0.0' '0.0' '0.0' '0.0' '0.0' '0.272463' '0.0'\n",
      " '0.0' '0.152206' '0.142592' '0.093195' '0.077363' '0.067799' '0.0' '0.0'\n",
      " '0.0' '0.0' '0.0' '0.0' '0.0' '0.0' '0.0' '0.0' '0.0' '0.0' '0.0' '0.0'\n",
      " '0.0' '0.0' '0.0' '0.0' '0.0' '0.0' '0.0' '0.0' '0.0' '0.0' '0.0' '0.0'\n",
      " '0.0' '0.0' '0.0' '0.0' '0.0' '0.0' '0.0' '0.0' '0.0' '0.0' '0.0' '0.0'\n",
      " '0.0' '0.0538' '0.045192' '0.038736' '0.0' '0.0' '0.0' '0.0' '0.0' '0.0'\n",
      " '0.0' '0.0' '0.0' '0.0' '0.0' '0.0' '0.0' '0.0' '0.0' '0.0' '0.0' '0.0'\n",
      " '0.0' '0.0' '0.0' '0.0' '0.0' '0.0' '0.0' '0.0' '0.0' '0.0' '0.0'\n",
      " '0.006456' '0.0' '0.0' '0.0' '0.0' '0.0' '0.0' '0.0' '0.0' '0.0' '0.0'\n",
      " '0.0' '0.0' '0.0' '0.0' '0.0' '0.0' '0.0' '0.0' '0.0' '0.0' '0.0' '0.0'\n",
      " '0.0' '0.0' '0.0' '0.0' '0.0' '0.0' '0.0' '0.0' '0.0' '0.0' '0.0' '0.0'\n",
      " '0.0' '0.0' '0.0' '0.0' '0.0' '0.0' '0.0' '0.0' '0.0' '0.0' '0.0' '0.0'\n",
      " '0.0' '0.0' '0.0' '0.0' '0.0' '0.0' '0.0' '0.0' '0.0' '0.0' '0.0' '0.0'\n",
      " '0.0' '0.0' '0.0' '0.0' '0.0' '0.0' '0.0' '0.0' '0.0' '0.002152' '0.0\\n']\n",
      "SWOW Nouns example\n",
      "Horse:\n",
      "['0' '0' '0' '0' '0' '0' '1' '0' '0' '0' '0' '0' '0' '0' '0' '0' '0' '0'\n",
      " '0' '0' '0' '0' '0' '9' '1' '0' '0' '0' '0' '9' '0' '0' '0' '4' '0' '0'\n",
      " '0' '0' '0' '0' '0' '0' '1' '0' '0' '0' '0' '0' '0' '0\\n']\n",
      "Mare:\n",
      "['0' '0' '0' '0' '0' '0' '0' '0' '0' '0' '0' '0' '0' '0' '0' '0' '0' '0'\n",
      " '0' '0' '0' '0' '0' '0' '0' '0' '0' '0' '0' '0' '0' '0' '0' '0' '0' '0'\n",
      " '0' '0' '0' '0' '0' '0' '0' '0' '0' '0' '0' '0' '0' '0\\n']\n",
      "Word2Vec Nouns example\n",
      "Dog:\n",
      "['-0.187956' '-0.576374' '-0.099378' '0.381505' '-0.034920' '0.662993'\n",
      " '0.403795' '-0.504661' '0.271683' '0.664742' '0.572801' '0.391702'\n",
      " '-0.175632' '0.334175' '-0.418716' '0.880376' '-0.776999' '-0.236448'\n",
      " '-0.437179' '-0.402898' '0.605225' '0.206453' '0.649173' '-0.020535'\n",
      " '0.195228' '0.435480' '-0.356695' '-0.297003' '0.753823' '0.381901'\n",
      " '-0.023558' '0.116041' '0.165225' '-1.328727' '-0.235878' '-0.186595'\n",
      " '0.233233' '0.502537' '-0.169190' '0.450573' '-0.293062' '-0.262067'\n",
      " '0.070613' '0.016534' '0.536001' '-0.063618' '-0.563297' '0.950493'\n",
      " '-0.198283' '0.173649' '0.235086' '-0.458623' '-0.309464' '-0.461100'\n",
      " '0.097848' '-0.115201' '-0.183937' '0.220529' '-0.441323' '0.074265'\n",
      " '0.154289' '0.072733' '0.183437' '-0.199054' '0.440639' '-0.171841'\n",
      " '0.650229' '-0.539144' '-0.423035' '-0.048725' '-0.322653' '-0.270446'\n",
      " '0.567587' '0.308086' '-0.202252' '0.208237' '0.038470' '-0.492895'\n",
      " '0.432774' '-0.614658' '-0.416508' '0.006910' '-0.396625' '-0.437460'\n",
      " '-0.623182' '0.809147' '-0.282259' '-0.001973' '0.149887' '-0.037521'\n",
      " '0.245675' '0.608327' '0.015966' '-0.414597' '-0.489306' '-0.546594'\n",
      " '0.172616' '0.101673' '0.091192' '0.573523' '0.078577' '0.175116'\n",
      " '-0.189040' '0.153342' '-0.165493' '-0.429415' '0.107025' '-0.106172'\n",
      " '-0.084381' '-0.032291' '-0.075368' '0.289532' '0.260989' '0.369629'\n",
      " '-0.210340' '0.486072' '0.263833' '0.536831' '-0.769980' '0.198002'\n",
      " '0.108243' '0.545785' '0.227985' '-0.036271' '-0.443213' '0.218040'\n",
      " '0.202533' '0.358055' '0.710656' '0.392202' '0.489327' '0.531588'\n",
      " '-0.772029' '0.633901' '0.395475' '0.334173' '0.493336' '0.105454'\n",
      " '0.065573' '0.250915' '-0.188365' '0.393228' '-0.068369' '0.051130'\n",
      " '0.150347' '0.357629' '0.011406' '0.276524' '-0.227215' '-0.125641'\n",
      " '-0.036376' '-0.698272' '0.538157' '0.191639' '0.239891' '0.277397'\n",
      " '0.384187' '0.491824' '0.137515' '1.030566' '0.305299' '-0.153995'\n",
      " '0.178249' '-0.662220' '0.147328' '-0.151256' '-0.317225' '-0.447727'\n",
      " '0.589411' '-0.259636' '0.013431' '0.445777' '-0.182228' '0.354243'\n",
      " '0.043861' '0.088199' '0.497814' '0.023080' '-0.555684' '-0.516628'\n",
      " '0.337557' '0.311753' '-0.640268' '-0.563423' '-0.103659' '-0.443959'\n",
      " '-0.060210' '-0.066899' '0.103711' '-0.123077' '0.652969' '0.434432'\n",
      " '0.412643' '0.560435' '0.348187' '-0.056629' '0.175321' '-0.162380'\n",
      " '-0.952616' '0.343147' '-0.602855' '0.147280' '0.286469' '-0.575492'\n",
      " '0.468590' '-0.717664' '0.029476' '-0.452041' '0.459889' '0.227545'\n",
      " '0.204830' '-0.204705' '-0.226857' '0.695111' '0.678019' '-0.311193'\n",
      " '-0.367845' '0.141134' '-0.656574' '0.150177' '-0.239690' '-0.216816'\n",
      " '0.331253' '-0.764553' '0.560034' '-0.289125' '0.725344' '0.189100'\n",
      " '-0.169837' '-1.180877' '-0.219115' '0.625226' '-0.234790' '-0.068018'\n",
      " '-0.051659' '-0.380299' '0.371037' '0.274763' '-0.381641' '0.517303'\n",
      " '-1.136787' '1.142170' '-0.167943' '-0.760565' '0.282648' '0.048736'\n",
      " '0.247873' '0.849435' '0.765334' '0.131228' '0.520798' '0.867567'\n",
      " '-0.508811' '-0.332433' '-0.505514' '-0.085914' '0.220988' '-0.446214'\n",
      " '-0.252348' '-0.090061' '0.054504' '-0.427272' '0.056685' '-0.249915'\n",
      " '0.455869' '-1.264609' '0.413469' '0.354768' '0.412730' '-0.792996'\n",
      " '-0.056604' '0.331234' '0.270079' '0.031969' '0.310917' '0.095629'\n",
      " '-0.986801' '-0.460804' '-0.073847' '-0.670419' '-0.043895' '-0.384747'\n",
      " '-0.002839' '-0.173417' '-0.300731' '-0.191447' '-0.552234' '0.271966'\n",
      " '-0.111534' '-0.219022' '0.006802' '-0.274981' '0.007225' '0.145600'\n",
      " '0.202521' '0.280714' '0.256343' '-0.467481' '0.475499' '-0.218778\\n']\n",
      "Cat:\n",
      "['-0.030510' '-0.219258' '0.208356' '0.605209' '0.031824' '0.539372'\n",
      " '0.831034' '-0.498476' '0.348149' '0.482086' '0.973080' '-0.051308'\n",
      " '-0.424477' '0.370969' '0.082189' '1.075413' '-0.186794' '-0.713830'\n",
      " '-0.257695' '-0.599751' '0.522187' '0.198099' '0.143058' '0.065377'\n",
      " '0.076064' '-0.095881' '-0.227032' '-0.310105' '0.200591' '0.268745'\n",
      " '-0.113465' '0.232583' '0.265311' '-0.416211' '0.253842' '0.070479'\n",
      " '0.483618' '0.387476' '0.051666' '0.232553' '-0.459484' '-0.173974'\n",
      " '-0.025405' '0.155713' '0.402326' '0.124108' '0.190185' '0.823629'\n",
      " '0.537462' '0.314799' '0.380077' '-0.284195' '-0.357232' '-0.206095'\n",
      " '0.360582' '0.022357' '-0.379062' '-0.103901' '-0.230969' '0.138418'\n",
      " '-0.297476' '-0.138301' '0.249721' '-0.287777' '0.218165' '-0.718574'\n",
      " '1.049481' '-0.322890' '-0.074914' '-0.155123' '0.086249' '0.373635'\n",
      " '0.004990' '0.409668' '0.112650' '-0.003822' '-0.126497' '-0.817465'\n",
      " '0.387146' '-0.590701' '-0.191143' '0.265951' '-0.271256' '0.104922'\n",
      " '-0.266301' '0.577893' '-0.164821' '0.213611' '-0.000028' '0.144063'\n",
      " '0.620689' '0.342102' '0.297409' '0.044080' '-0.500889' '-0.791786'\n",
      " '0.042862' '0.057525' '-0.466203' '1.106704' '-0.052683' '0.629375'\n",
      " '0.017494' '0.041805' '-0.160238' '-0.244396' '0.240456' '-0.222708'\n",
      " '0.261083' '0.205089' '-0.461600' '0.360231' '0.232016' '-0.290220'\n",
      " '0.157973' '-0.055750' '0.086785' '0.069648' '-0.513269' '0.031227'\n",
      " '-0.356844' '-0.099294' '0.826368' '-0.415003' '-0.192453' '0.212814'\n",
      " '-0.520959' '0.480930' '0.649174' '0.790247' '0.697772' '0.343829'\n",
      " '-0.020461' '0.193717' '0.406501' '0.875910' '0.160783' '0.431040'\n",
      " '-0.293468' '0.193610' '-0.496300' '0.376313' '-0.115967' '0.067954'\n",
      " '0.026157' '0.206465' '-0.300431' '0.111386' '-0.135749' '-0.486364'\n",
      " '0.222474' '-0.773868' '0.824136' '0.207038' '0.326333' '0.672248'\n",
      " '0.501042' '-0.304307' '0.375674' '0.242500' '-0.089511' '-0.567449'\n",
      " '0.263215' '-0.338777' '-0.237821' '-0.257867' '-0.024144' '0.049573'\n",
      " '0.737534' '-0.160888' '0.069165' '0.010884' '0.223232' '0.447325'\n",
      " '0.173929' '0.634444' '0.191132' '0.290159' '-0.109394' '-0.394099'\n",
      " '0.413886' '0.016523' '-0.432952' '-0.133243' '-0.065065' '-0.175450'\n",
      " '-0.110246' '0.063655' '0.483706' '0.219550' '0.724847' '0.260669'\n",
      " '0.545532' '-0.105634' '0.527781' '-0.140979' '0.335768' '0.262027'\n",
      " '-0.729536' '-0.064289' '-0.549974' '-0.001336' '0.670889' '-0.201478'\n",
      " '0.071257' '-0.247750' '-0.185479' '-0.003455' '0.757716' '0.321316'\n",
      " '-0.203066' '-0.351589' '0.606485' '0.611296' '0.274556' '0.015465'\n",
      " '-0.092076' '-0.132292' '-0.345324' '-0.009838' '0.082957' '-0.227774'\n",
      " '-0.028869' '-0.383367' '-0.041273' '-0.791424' '0.520078' '-0.015747'\n",
      " '0.228250' '-0.399343' '-0.563174' '0.360613' '0.059697' '-0.226602'\n",
      " '0.100663' '-0.257228' '0.635062' '0.754916' '-0.038834' '0.334358'\n",
      " '-1.224287' '0.524054' '-0.190877' '-0.372278' '0.079715' '0.182402'\n",
      " '0.037008' '0.856984' '0.876060' '0.186854' '0.108800' '-0.016716'\n",
      " '-0.511060' '-0.093950' '-0.065025' '-0.079481' '0.328206' '-0.296119'\n",
      " '-0.061437' '-0.061705' '-0.010320' '-0.213708' '-0.159285' '-0.137934'\n",
      " '0.023403' '-0.718247' '0.226487' '0.459930' '-0.263499' '-0.280784'\n",
      " '-0.290351' '0.415764' '-0.021996' '-0.502458' '0.392624' '-0.200775'\n",
      " '-0.704582' '-0.238976' '-0.343274' '-0.461438' '-0.071727' '-0.066764'\n",
      " '0.070002' '-0.272428' '-0.064685' '0.058221' '-0.585899' '0.664546'\n",
      " '-0.068528' '-0.627903' '0.382968' '-0.936954' '-0.289952' '0.080468'\n",
      " '0.422128' '0.216063' '0.019948' '-0.278022' '0.529659' '-0.488361\\n']\n"
     ]
    }
   ],
   "source": [
    "WN_vec = f.load_vectors(\"data/word_net.vec\")\n",
    "print (\"WordNet Nouns example\")\n",
    "print (\"Mouse:\")\n",
    "print (WN_vec[\"mouse\"])\n",
    "print (\"Cat:\")\n",
    "print (WN_vec[\"ant\"])\n",
    "SWOW_vec = f.load_vectors('data/small_world_of_words.vec')\n",
    "print (\"SWOW Nouns example\")\n",
    "print (\"Horse:\")\n",
    "print (SWOW_vec[\"horse\"])\n",
    "print (\"Mare:\")\n",
    "print (SWOW_vec[\"mare\"])\n",
    "W2_vec = f.load_vectors('data/word2vec.vec')\n",
    "print (\"Word2Vec Nouns example\")\n",
    "print (\"Dog:\")\n",
    "print (W2_vec[\"dog\"])\n",
    "print (\"Cat:\")\n",
    "print (W2_vec[\"cat\"])"
   ]
  },
  {
   "cell_type": "markdown",
   "metadata": {},
   "source": [
    "### Citations\n",
    "\n",
    "$^1$Hill, F., Reichart, R., & Korhonen, A. (2015). SimLex-999: Evaluating Semantic Models With (Genuine) Similarity Estimation. Computational Linguistics, 41(4), 665-695. doi:10.1162/coli_a_00237\n",
    "\n",
    "$^2$Miller, G. A., Beckwith, R., Fellbaum, C., Gross, D., & Miller, K. J. (1990). Introduction to WordNet: An On-line Lexical Database*. International Journal of Lexicography, 3(4), 235-244. doi:10.1093/ijl/3.4.235\n",
    "\n",
    "$^3$Data is from http://www.smallworldofwords.org.\n",
    "\n",
    "$^4$ Fares, Murhaf; Kutuzov, Andrei; Oepen, Stephan & Velldal, Erik (2017). Word vectors, reuse, and replicability: Towards a community repository of large-text resources, In Jörg Tiedemann (ed.), Proceedings of the 21st Nordic Conference on Computational Linguistics, NoDaLiDa, 22-24 May 2017. Linköping University Electronic Press. ISBN 978-91-7685-601-7"
   ]
  }
 ],
 "metadata": {
  "kernelspec": {
   "display_name": "Python 3",
   "language": "python",
   "name": "python3"
  },
  "language_info": {
   "codemirror_mode": {
    "name": "ipython",
    "version": 3
   },
   "file_extension": ".py",
   "mimetype": "text/x-python",
   "name": "python",
   "nbconvert_exporter": "python",
   "pygments_lexer": "ipython3",
   "version": "3.5.6"
  }
 },
 "nbformat": 4,
 "nbformat_minor": 2
}
