{
 "cells": [
  {
   "cell_type": "markdown",
   "metadata": {},
   "source": [
    "## COG403: Problem 2 of Problem Set 2: Semantic Networks\n",
    "\n",
    "### All 3 problems for Problem Set 2 Due 1 November 2018, 2 pm"
   ]
  },
  {
   "cell_type": "markdown",
   "metadata": {},
   "source": [
    "In this question you will be building and experimenting with a semantic network based on the Small World of Words data, to do a partial replication of the Abbott et al. (2015) experiments on a larger free association data set. To build the graph for the semantic network, we will be using the Python library `networkx`. Below are some examples of how to use this library."
   ]
  },
  {
   "cell_type": "code",
   "execution_count": 2,
   "metadata": {},
   "outputs": [
    {
     "name": "stdout",
     "output_type": "stream",
     "text": [
      "example_graph.nodes() => ['c', 'd', 'a', 'b']\n",
      "example_graph.edges() => [('c', 'd'), ('a', 'c'), ('a', 'd'), ('a', 'b')]\n",
      "'a' in example_graph => True\n",
      "example_graph['a'] => {'c': {'weight': 0.2}, 'd': {'weight': 0.4}, 'b': {'weight': 0.1}}\n",
      "True\n"
     ]
    },
    {
     "name": "stderr",
     "output_type": "stream",
     "text": [
      "/Users/JoshGelua/anaconda3/lib/python3.5/site-packages/networkx/drawing/nx_pylab.py:611: MatplotlibDeprecationWarning: isinstance(..., numbers.Number)\n",
      "  if cb.is_numlike(alpha):\n"
     ]
    },
    {
     "data": {
      "text/plain": [
       "<Figure size 640x480 with 1 Axes>"
      ]
     },
     "metadata": {},
     "output_type": "display_data"
    }
   ],
   "source": [
    "import networkx as nx\n",
    "from provided_functions import plot_graph\n",
    "\n",
    "# initialize graph\n",
    "example_graph = nx.DiGraph()\n",
    "\n",
    "# add nodes\n",
    "example_graph.add_node('a')\n",
    "example_graph.add_nodes_from(['b', 'c', 'd'])\n",
    "\n",
    "# add edges\n",
    "example_graph.add_edge('a', 'b', weight=0.1)\n",
    "example_graph.add_edge('a', 'c', weight=0.2)\n",
    "example_graph.add_edge('c', 'd', weight=0.1)\n",
    "example_graph.add_edge('a', 'd', weight=0.4)\n",
    "\n",
    "print(\"example_graph.nodes() => {}\".format(example_graph.nodes()))\n",
    "print(\"example_graph.edges() => {}\".format(example_graph.edges()))\n",
    "print(\"'a' in example_graph => {}\".format('a' in example_graph))\n",
    "print(\"example_graph['a'] => {}\".format(example_graph['a']))\n",
    "# use provided function to plot graph\n",
    "plot_graph(example_graph)"
   ]
  },
  {
   "cell_type": "markdown",
   "metadata": {},
   "source": [
    "### (a)\n",
    "\n",
    "Write a function to build a semantic network from the Small World of Words data using `networkx.DiGraph`. Call your function `get_swow_graph` and write it according to the specifications below. Print a list of all the node labels of nodes that *dog* has an outgoing edge to, as well as the weight of each edge.\n",
    "\n",
    "Note: do NOT print the entire graph, since it is so large.\n",
    "\n",
    "Note: only words that occur as cues should be included as nodes in the graph."
   ]
  },
  {
   "cell_type": "code",
   "execution_count": 77,
   "metadata": {},
   "outputs": [
    {
     "name": "stdout",
     "output_type": "stream",
     "text": [
      "{'home': {'weight': 0.004694835680751174}, 'work': {'weight': 0.004694835680751174}, 'lap': {'weight': 0.004694835680751174}, 'waste': {'weight': 0.004694835680751174}, 'buddy': {'weight': 0.004694835680751174}, 'guard': {'weight': 0.004694835680751174}, 'loyal': {'weight': 0.009389671361502348}, 'walk': {'weight': 0.014084507042253521}, 'go': {'weight': 0.004694835680751174}, 'fish': {'weight': 0.004694835680751174}, 'horse': {'weight': 0.009389671361502348}, 'snake': {'weight': 0.004694835680751174}, 'lead': {'weight': 0.009389671361502348}, 'dead': {'weight': 0.004694835680751174}, 'God': {'weight': 0.009389671361502348}, 'stink': {'weight': 0.004694835680751174}, 'caring': {'weight': 0.004694835680751174}, 'track': {'weight': 0.004694835680751174}, 'tongue': {'weight': 0.014084507042253521}, 'golden': {'weight': 0.009389671361502348}, 'puppy': {'weight': 0.046948356807511735}, 'happy': {'weight': 0.018779342723004695}, 'pant': {'weight': 0.004694835680751174}, 'day': {'weight': 0.004694835680751174}, 'bone': {'weight': 0.03755868544600939}, 'pig': {'weight': 0.009389671361502348}, 'tail': {'weight': 0.004694835680751174}, 'cat': {'weight': 0.23943661971830985}, 'hair': {'weight': 0.004694835680751174}, 'companion': {'weight': 0.018779342723004695}, 'bird': {'weight': 0.004694835680751174}, 'bite': {'weight': 0.014084507042253521}, 'annoying': {'weight': 0.004694835680751174}, 'days': {'weight': 0.009389671361502348}, 'ball': {'weight': 0.009389671361502348}, 'rat': {'weight': 0.004694835680751174}, 'world': {'weight': 0.004694835680751174}, 'yard': {'weight': 0.004694835680751174}, 'mean': {'weight': 0.004694835680751174}, 'play': {'weight': 0.004694835680751174}, 'black': {'weight': 0.004694835680751174}, 'cow': {'weight': 0.004694835680751174}, 'tired': {'weight': 0.009389671361502348}, 'log': {'weight': 0.004694835680751174}, 'faithful': {'weight': 0.004694835680751174}, 'friendly': {'weight': 0.004694835680751174}, 'friend': {'weight': 0.07042253521126761}, 'ears': {'weight': 0.004694835680751174}, 'kiss': {'weight': 0.004694835680751174}, 'eat': {'weight': 0.004694835680751174}, 'bitch': {'weight': 0.004694835680751174}, 'mouse': {'weight': 0.004694835680751174}, 'elephant': {'weight': 0.004694835680751174}, 'animal': {'weight': 0.03755868544600939}, 'wolf': {'weight': 0.004694835680751174}, 'love': {'weight': 0.018779342723004695}, 'frog': {'weight': 0.004694835680751174}, 'run': {'weight': 0.018779342723004695}, 'gone': {'weight': 0.004694835680751174}, 'least': {'weight': 0.004694835680751174}, 'fear': {'weight': 0.004694835680751174}, 'pet': {'weight': 0.07981220657276995}, 'mate': {'weight': 0.004694835680751174}, 'bark': {'weight': 0.03755868544600939}, 'nap': {'weight': 0.004694835680751174}, 'rabbit': {'weight': 0.004694835680751174}, 'amazing': {'weight': 0.004694835680751174}, 'dog': {'weight': 0.004694835680751174}, 'fun': {'weight': 0.009389671361502348}, 'stubborn': {'weight': 0.004694835680751174}, 'follow': {'weight': 0.009389671361502348}, 'house': {'weight': 0.004694835680751174}, 'cute': {'weight': 0.009389671361502348}}\n"
     ]
    }
   ],
   "source": [
    "import networkx as nx\n",
    "from provided_functions import plot_graph\n",
    "from data.animals import ANIMAL_TO_CATEGORIES\n",
    "import csv\n",
    "from collections import Counter\n",
    "SWOW_FILE = 'data/SWOW-EN.R100.csv'\n",
    "\n",
    "\n",
    "def get_swow_graph(node_threshold=5):\n",
    "    \"\"\"\n",
    "    node_threshold: int -- the number of times a word must occur in the SWOW data to be \n",
    "    added as a node to your graph.\n",
    "    \n",
    "    Generates a directed, weighted networkx.DiGraph where:\n",
    "        1. Nodes represent cues from the SWOW data that occur at least node_threhsold times.\n",
    "           Note: the word 'NA' should not occur as a node.\n",
    "        2. Outgoing edges from each node sum to 1. These should be proportional to the number of times\n",
    "           each node occurs as a response to the cue associated with the given node.\n",
    "        3. The node 'animal' is treated a special case. The outgoing edges from the node 'animal' should\n",
    "           have a uniform probability over all cues in the SWOW data that are keys in the dict\n",
    "           ANIMAL_TO_CATEGORIES in the data/animals.py file.\n",
    "    \"\"\"\n",
    "    sum_of_keys = 0\n",
    "    swow_graph = nx.DiGraph()\n",
    "    node_weights = {}\n",
    "    with open(SWOW_FILE, 'rt') as f:\n",
    "        reader = csv.reader(f)\n",
    "        SWOW_entries = list(reader)\n",
    "    for index in SWOW_entries:\n",
    "        if index[-4] in node_weights:\n",
    "            node_weights[index[-4]] += 1\n",
    "        else:\n",
    "            node_weights[index[-4]] = 1\n",
    "    node_weights = {node:weights for node, weights in node_weights.items() if weights >= node_threshold}\n",
    "    weights = {}\n",
    "    for node in node_weights:\n",
    "        weights[node] = []\n",
    "    with open(SWOW_FILE, 'rt') as f:\n",
    "        reader = csv.reader(f)\n",
    "        SWOW_entries = list(reader)\n",
    "    for index in SWOW_entries:\n",
    "        if index[-4] in node_weights:\n",
    "            if index [-3] in node_weights:\n",
    "                weights[index[-4]].append(index[-3])\n",
    "            if index [-2] in node_weights:\n",
    "                weights[index[-4]].append(index[-2])\n",
    "            if index [-1] in node_weights:\n",
    "                weights[index[-4]].append(index[-1])\n",
    "    for node in weights:\n",
    "        swow_graph.add_node(node)\n",
    "    for cues in ANIMAL_TO_CATEGORIES:\n",
    "        if cues in node_weights:\n",
    "            sum_of_keys += 1\n",
    "    for cues in ANIMAL_TO_CATEGORIES:\n",
    "        if cues in node_weights:\n",
    "            swow_graph.add_edge('animal', cues, weight=(1/sum_of_keys))\n",
    "    for node in weights:\n",
    "        connecting_node_weight = []\n",
    "        length_of_node = len(weights[node])\n",
    "        if node != 'animal':\n",
    "            for connecting in weights[node]:\n",
    "                weight = weights[node].count(connecting) / length_of_node\n",
    "                if (connecting, weight) not in connecting_node_weight:\n",
    "                    connecting_node_weight.append((connecting, weight))\n",
    "            for connecting, weight in connecting_node_weight:\n",
    "                swow_graph.add_edge(node, connecting, weight=weight)\n",
    "\n",
    "    return swow_graph\n",
    "    \n",
    "    \n",
    "G = get_swow_graph()\n",
    "print(G['dog'])"
   ]
  },
  {
   "cell_type": "markdown",
   "metadata": {},
   "source": [
    "### (b)\n",
    "\n",
    "In this step, you will visualize your graph using the function `plot_graph` in `provided_functions.py`. Because the actual graph has thousands of nodes, we will visualize a portion of the graph. Write a function `get_subgraph` based on the specifications below. Call `get_subgraph` on your graph with three start nodes: *dog*, *turtle*, and *animal*. For *dog* and *turtle*, use `length=2` and `threshold=0.05`. For *animal*, use `length=1` and `threshold=0`. Call `plot_graph` on each subgraph.\n",
    "\n",
    "Hint: use the `subgraph` method of networkx graphs.\n",
    "\n",
    "Note: By default, the `plot_graph` function plots a graph as undirected. For your graphs for this question, please use the default to print them without the arrows. If you are curious and want to experiment, you can make it show the arrows by setting `arrows=True`. The reason it's set to `False` by default is that the way `matplotlib` renders the arrows decreases the interpretability of the graph."
   ]
  },
  {
   "cell_type": "code",
   "execution_count": 73,
   "metadata": {},
   "outputs": [
    {
     "name": "stderr",
     "output_type": "stream",
     "text": [
      "/Users/JoshGelua/anaconda3/lib/python3.5/site-packages/networkx/drawing/nx_pylab.py:611: MatplotlibDeprecationWarning: isinstance(..., numbers.Number)\n",
      "  if cb.is_numlike(alpha):\n"
     ]
    },
    {
     "data": {
      "image/png": "[encoded data removed]",
      "text/plain": [
       "<Figure size 432x288 with 1 Axes>"
      ]
     },
     "metadata": {
      "needs_background": "light"
     },
     "output_type": "display_data"
    },
    {
     "data": {
      "image/png": "[encoded data removed]",
      "text/plain": [
       "<Figure size 432x288 with 1 Axes>"
      ]
     },
     "metadata": {
      "needs_background": "light"
     },
     "output_type": "display_data"
    },
    {
     "data": {
      "image/png": "[encoded data removed]",
      "text/plain": [
       "<Figure size 432x288 with 1 Axes>"
      ]
     },
     "metadata": {
      "needs_background": "light"
     },
     "output_type": "display_data"
    }
   ],
   "source": [
    "from provided_functions import plot_graph\n",
    " \n",
    " \n",
    "def get_subgraph(G, start, length=2, threshold=0.05):\n",
    "    \"\"\"\n",
    "    G: networkx.DiGraph -- semantic network of SWOW data\n",
    "    start: str -- name of node to start with\n",
    "    length: int -- the maximum distance a node can be from start to be included in the result.\n",
    "        The length of a path through the graph is the number of edges needed to get from\n",
    "        the start node to the end node (e.g. the path from A->B->C is 2).\n",
    "    threshold: float -- the minimum edge weight required for an edge to be added to the graph\n",
    "    \n",
    "    Return a subgraph of G based on a search starting at start. Only include nodes in your graph that \n",
    "    have a distance of length or less from your start node. When searching, only add nodes that are\n",
    "    connected to your graph by an edge with weight threshold or higher.\n",
    "    \"\"\"\n",
    "    point = G[start]\n",
    "    nodes = [start]\n",
    "    \n",
    "    for connecting_nodes in point:\n",
    "        if point[connecting_nodes]['weight'] >= threshold:\n",
    "            nodes.append(connecting_nodes)\n",
    "            \n",
    "    for i in range(length-1):\n",
    "        for node in nodes[1:]:\n",
    "            sub_graph = G[node]\n",
    "            for sub_node in sub_graph:\n",
    "                if sub_graph[sub_node]['weight'] >= threshold and sub_node not in nodes:\n",
    "                    nodes.append(sub_node)\n",
    "    \n",
    "    return G.subgraph(nodes)\n",
    "\n",
    "turtle_graph = get_subgraph(G, 'turtle', length=2, threshold=0.05)\n",
    "dog_graph = get_subgraph(G, 'dog',length=2, threshold=0.05)\n",
    "animal_graph = get_subgraph(G, 'animal', length=1, threshold=0)\n",
    "\n",
    "plot_graph(turtle_graph)\n",
    "plot_graph(dog_graph)\n",
    "plot_graph(animal_graph)"
   ]
  },
  {
   "cell_type": "markdown",
   "metadata": {},
   "source": [
    "### (c)\n",
    "\n",
    "Write two functions `get_most_likely_walk` and `get_least_likely_walk` that find the most and least likely walks from a given start node. Implement your functions according to the docstrings below.\n",
    "\n",
    "Call your functions with the graph from part a. In both cases, set `start = 'dog'` and `walk_length = 10`."
   ]
  },
  {
   "cell_type": "code",
   "execution_count": 16,
   "metadata": {},
   "outputs": [
    {
     "name": "stdout",
     "output_type": "stream",
     "text": [
      "Starting at dog, the most likely walk is:\n",
      "['cat', 'feline', 'meow', 'purr', 'kitten', 'cute', 'pretty', 'girl', 'boy', 'child', 'baby']\n",
      "Starting at dog, the least likely walk is:\n",
      "['home', 'soon', 'disappointment', 'shame', 'neat', 'careful', 'injury', 'challenge', 'work', 'leisure', 'rich']\n"
     ]
    }
   ],
   "source": [
    "def get_most_likely_walk(G, start, walk_length):\n",
    "    \"\"\"\n",
    "    G: networkx.DiGraph -- semantic network of SWOW data\n",
    "    start: str -- name of node to start with\n",
    "    walk_length: the length of the walk to return.\n",
    "    \n",
    "    Return a list of length walk_length representing a walk. Do not include start in your\n",
    "    result. Each node in your walk should be most likely node given the previous node. In\n",
    "    other words, it should be the node that the previous node has the highest weighted\n",
    "    outgoing edge to.\n",
    "    \n",
    "    Do not allow repeats in your walk. For example, say 'fox' is your start node and\n",
    "    'den' is the most likely node to follow 'fox'. Even if 'fox' is also the most\n",
    "    likely node to follow 'den', it should not be revisited after we've seen it. In this case,\n",
    "    you should select the second highest weighted edge.\n",
    "    \"\"\"\n",
    "    walk = []\n",
    "    point = G[start]\n",
    "    prob = 0\n",
    "    for steps in point:\n",
    "        if point[steps]['weight'] > prob:\n",
    "            prob = point[steps]['weight']\n",
    "            step = steps\n",
    "    walk.append(step)\n",
    "    for i in range(walk_length):\n",
    "        after_step = G[step]\n",
    "        prob = 0\n",
    "        for steps in after_step:\n",
    "            if after_step[steps]['weight'] > prob and steps not in walk and steps != start:\n",
    "                prob = after_step[steps]['weight']\n",
    "                step = steps\n",
    "        walk.append(step)\n",
    "    \n",
    "    return walk \n",
    "print(\"Starting at dog, the most likely walk is:\")\n",
    "print(get_most_likely_walk(G, 'dog', 10))\n",
    "    \n",
    "\n",
    "\n",
    "def get_least_likely_walk(G, start, walk_length):\n",
    "    \"\"\"\n",
    "    G: networkx.DiGraph -- semantic network of SWOW data\n",
    "    start: str -- name of node to start with\n",
    "    walk_length: the length of the walk to return.\n",
    "    \n",
    "    Return a list of length walk_length representing a walk. Do not include start in your\n",
    "    result. Each node in your walk should be the least likely node that the previous node has an\n",
    "    outgoing edge to. (Note that there will be nodes that have a zero probability given\n",
    "    the previous node, and are not connected to the previous node at all. These should\n",
    "    not be included.)\n",
    "    \n",
    "    Do not allow repeats in your walk. For example, say 'fox' is your start node and\n",
    "    'rock' is the least likely node to follow 'fox'. Even if 'fox' is also the least\n",
    "    likely node to follow 'rock', it should not be revisited after we've seen it. In\n",
    "    this case, you should select the second lowest weighted edge.\n",
    "    \"\"\"\n",
    "    walk = []\n",
    "    point = G[start]\n",
    "    prob = 1\n",
    "    for steps in point:\n",
    "        if point[steps]['weight'] < prob:\n",
    "            prob = point[steps]['weight']\n",
    "            step = steps\n",
    "    walk.append(step)\n",
    "    for i in range(walk_length):\n",
    "        after_step = G[step]\n",
    "        prob = 1\n",
    "        for steps in after_step:\n",
    "            if after_step[steps]['weight'] < prob and steps not in walk and steps != start:\n",
    "                prob = after_step[steps]['weight']\n",
    "                step = steps\n",
    "        walk.append(step)\n",
    "    \n",
    "    return walk \n",
    "print (\"Starting at dog, the least likely walk is:\")\n",
    "print(get_least_likely_walk(G, 'dog', 10))"
   ]
  },
  {
   "cell_type": "markdown",
   "metadata": {},
   "source": [
    "### (d)\n",
    "\n",
    "Write a function `weighted_random_walk` to generate a random walk of length `walk_length` starting at node `start`. The probability of choosing the next node at each step in the walk should be based on your edge weights. You can implement this using `np.random.choice` (take a look at the documentation for the parameter `p`, which allows you to pass a list of weighted probabilities for the items to select from). These random walks (unlike in part c above) should allow revisiting nodes that have been visited before (since this is allowed in the Abbott et al. work).\n",
    "\n",
    "Your function should return a list of strings representing nodes visited. Implement your function according to the docstring below.\n",
    "\n",
    "Print the list of strings for a sample walk using the graph from part a with `start = 'animal'` and `walk_length = 50`."
   ]
  },
  {
   "cell_type": "code",
   "execution_count": 48,
   "metadata": {},
   "outputs": [
    {
     "name": "stdout",
     "output_type": "stream",
     "text": [
      "['rat', 'nasty', 'girls', 'wonderful', 'special', 'precious', 'movie', 'love', 'red', 'sick', 'juice', 'bar', 'chart', 'boring', 'mundane', 'lame', 'out', 'through', 'during', 'meeting', 'boring', 'time', 'over', 'board', 'bread', 'cat', 'tire', 'gas', 'natural', 'exclude', 'what', 'object', 'desire', 'you', 'others', 'family', 'close', 'shop', 'satisfaction', 'feeling', 'soft', 'hard', 'case', 'carton', 'wood', 'country', 'pride', 'red', 'flag', 'nationality']\n"
     ]
    }
   ],
   "source": [
    "import numpy as np\n",
    "def weighted_random_walk(G, start, walk_length):\n",
    "    \"\"\"\n",
    "    G: networkx.DiGraph -- semantic network of SWOW data\n",
    "    start: str -- name of node to start with\n",
    "    walk_length: the length of the walk to return.\n",
    "    \n",
    "    Return a list of length walk_length representing a walk. Do not include start in your\n",
    "    result. Each node in your walk should be randomly selected based on the weights of the\n",
    "    outgoing edges of the previous node. A node can be visited more than once.\n",
    "    \"\"\"\n",
    "    point = G[start]\n",
    "    possible_nodes = []\n",
    "    corresponding_weights = []\n",
    "    walk = []\n",
    "    for node in point:\n",
    "        possible_nodes.append(node)\n",
    "        corresponding_weights.append(point[node]['weight'])\n",
    "    walk.extend(np.random.choice(possible_nodes, 1, corresponding_weights))\n",
    "    for i in range(walk_length-1):\n",
    "        after_point = G[walk[-1]]\n",
    "        possible_nodes = []\n",
    "        corresponding_weights = []\n",
    "        for node in after_point:\n",
    "            possible_nodes.append(node)\n",
    "            corresponding_weights.append(after_point[node]['weight'])\n",
    "        walk.extend(np.random.choice(possible_nodes, 1, corresponding_weights))\n",
    "    return walk\n",
    "print (weighted_random_walk(G, start='animal', walk_length=50))"
   ]
  },
  {
   "cell_type": "markdown",
   "metadata": {},
   "source": [
    "### (e)\n",
    "\n",
    "Write a function `get_animals_and_IRT` according to the docstring below. Your function should return a tuple of (description, animal_list), where:\n",
    " * description is a string description. Each line should include a valid `item`, as well as the `steps` between the item and the previous item (ie, the nodes on the path between each pair of responses). A response is a valid item if its label is in `ANIMAL_TO_CATEGORIES` (defined in `data/animals.py`) and it has not been seen previously in the walk.\n",
    " * animal_list is a list of tuples of `(item, IRT)`, where item is a valid item, and the IRT is the interitem response time, as defined in Abbott et al.\n",
    " \n",
    "For example, the walk `[animal, dog, pet, cat, dog, bone, dinosaur, lizard]` \n",
    "\n",
    "The description would be:\n",
    "\n",
    "`item: dog       steps:\n",
    " item: cat       steps: pet\n",
    " item: lizard    steps: dog, bone, dinosaur`\n",
    "\n",
    "And the animal_list would be:\n",
    "`[('dog', 1), ('cat', 2), ('lizard', 4)]`\n",
    "\n",
    "Note that `dog` occurs twice in the random walk, but is only listed as an `item` one time.  Also, we know `dinosaur` is an animal, but it's not listed in `ANIMAL_TO_CATEGORIES`.\n",
    "\n",
    "Run your function `weighted_random_walk` from part d (with `start = 'animal'` and `walk_length = 50`) until you find a walk with at least 6 valid `items`. Print the random walk, as well as the description and the animal_list returned by `get_animal_and_IRT` called on this walk."
   ]
  },
  {
   "cell_type": "code",
   "execution_count": 69,
   "metadata": {},
   "outputs": [
    {
     "name": "stdout",
     "output_type": "stream",
     "text": [
      "item: bug, steps: []\n",
      "item: kitten, steps: ['bug', 'soil', 'sand', 'glass', 'window', 'door', 'go', 'proceed', 'legal', 'no', 'refuse', 'decline', 'train', 'family', 'mammal', 'furry']\n",
      "item: chicken, steps: ['kitten', 'furry', 'anger', 'face', 'surface', 'milk', 'breakfast', 'club', 'fight', 'mean', 'sister', 'sweet', 'teeth', 'substance', 'product', 'retail', 'market', 'study', 'lesson', 'jerk']\n",
      "item: turkey, steps: ['chicken']\n",
      "item: fox, steps: ['turkey', 'breast', 'sexy']\n",
      "item: hen, steps: ['fox']\n",
      " [('bug', 1), ('kitten', 17), ('chicken', 21), ('turkey', 2), ('fox', 4), ('hen', 2)]\n"
     ]
    }
   ],
   "source": [
    "from data.animals import ANIMAL_TO_CATEGORIES\n",
    "\n",
    "\n",
    "def get_animal_and_IRT(node_list):\n",
    "    \"\"\"\n",
    "    node_list: list of string\n",
    "    \n",
    "    Return a tuple (description, animal_list). Where:\n",
    "      - description is a string in the format shown in the question description above\n",
    "      - animal_list is a list of tuples of (item, IRT), where item is a unique item, and count\n",
    "          is the interitem response time, as defined in Abott et al.\n",
    "    Ignore the nodes visited after the last unique item is found.\n",
    "    \"\"\"\n",
    "    description = ''\n",
    "    animal_list = []\n",
    "    index = 0\n",
    "    for node in node_list:\n",
    "        walk = []\n",
    "        if node in ANIMAL_TO_CATEGORIES and node not in description:\n",
    "            walk.extend(node_list[index:node_list.index(node)])\n",
    "            index = node_list.index(node)\n",
    "            description += \"item: \" + node + \", steps: \" + str(walk) + \"\\n\"\n",
    "            animal_list.append((node, len(walk)+1))\n",
    "    return (description, animal_list)\n",
    "\n",
    "animal_list = []\n",
    "while len(animal_list) < 6:\n",
    "    random_walk = weighted_random_walk(G, \"animal\", 50)\n",
    "    description, animal_list = get_animal_and_IRT(random_walk)\n",
    "print (description, animal_list)"
   ]
  },
  {
   "cell_type": "markdown",
   "metadata": {},
   "source": [
    "### (f)\n",
    "\n",
    "Here, you'll do an analysis of the IRT pattern in the random walks you generate, somewhat simplified from the Abbott et al. reading.  \n",
    "\n",
    "First, you'll need to recognize \"patch switches\": Check for each valid animal item whether it shares a category with the previous valid animal item in the walk.\n",
    "\n",
    "Second, you'll calculate the mean IRT across the entire walk (mIRT), as well as the mean difference from mIRT at each of three points: At valid animals that constitute a patch switch (position 1), as well as at valid animals one before a patch switch (position -1), and valid animals one after a patch switch (position 2).\n",
    "\n",
    "Finally, you'll average these values across a set of random walks.\n",
    "\n",
    "Implement this in the `graph_patch_switches` function below, according to the docstring.  (Note that the walks you pass into the function will be in the format of a list of (item, IRT) tuples returned by the function `get_animal_and_IRT` in part e).\n",
    "\n",
    "Call `graph_patch_switches` on the two input lists provide in the file `sample_rw_lists.py` and show the graph for each."
   ]
  },
  {
   "cell_type": "code",
   "execution_count": 105,
   "metadata": {},
   "outputs": [
    {
     "name": "stdout",
     "output_type": "stream",
     "text": [
      "Sample 1: \n",
      "\n"
     ]
    },
    {
     "data": {
      "image/png": "[encoded data removed]",
      "text/plain": [
       "<Figure size 432x288 with 1 Axes>"
      ]
     },
     "metadata": {
      "needs_background": "light"
     },
     "output_type": "display_data"
    },
    {
     "name": "stdout",
     "output_type": "stream",
     "text": [
      "Sample 2: \n",
      "\n"
     ]
    },
    {
     "data": {
      "image/png": "[encoded data removed]",
      "text/plain": [
       "<Figure size 432x288 with 1 Axes>"
      ]
     },
     "metadata": {
      "needs_background": "light"
     },
     "output_type": "display_data"
    }
   ],
   "source": [
    "import matplotlib.pyplot as plt\n",
    "import numpy as np\n",
    "\n",
    "from data.animals import ANIMAL_TO_CATEGORIES\n",
    "from sample_rw_lists import sample1, sample2\n",
    "def generate_plot(triple_averages):\n",
    "    \"\"\"\n",
    "    triple_averages: list of length three representing the difference in mean IRTs at \"patch switch\"\n",
    "        positions compared to the overall mean IRT.\n",
    "        The order should be (position -1, position 1, position 2).\n",
    "        \n",
    "    Generate a bar graph of triple_averages.\n",
    "    \"\"\"\n",
    "    y_positions = np.arange(len(triple_averages))\n",
    "    plt.bar(y_positions, triple_averages, align='center', alpha=0.5)\n",
    "    plt.xticks(y_positions, ['position -1', 'position 1', 'position 2'])\n",
    "    plt.ylabel('difference from mean IRT')\n",
    "    plt.show()\n",
    "\n",
    "\n",
    "def graph_patch_switches(walks):\n",
    "    \"\"\"\n",
    "    walks: list of list of tuple. Each inner list represents a walk. Each tuple in a walk\n",
    "        should be of the format (item, IRT), where item is a string representing a valid animal\n",
    "        in a walk and IRT is an integer indicating the time between this item and the previous one.\n",
    "    \n",
    "    Generate a graph of the average difference between overall mean IRT of a walk, and the mean IRT\n",
    "    at each of three patch switch positions:\n",
    "        position -1 corresponds to the items just before the first item in a patch switch, \n",
    "        position 1 corresponds to the first items in a patch switch, \n",
    "        position 2 corresponds to the items in the next position following those in position 1,\n",
    "            when those next items are in the same patch as the item in position 1.\n",
    "    Compute the mean IRT for each of the three positions, and the difference between those means\n",
    "        and the overall mean IRT of each walk.\n",
    "    Calculate the mean of these differences across all the random walks and plot those using the\n",
    "        generate_plot function defined above.\n",
    "    \n",
    "    \"\"\"\n",
    "    aggregate_average_differences_neg_one = []\n",
    "    aggregate_average_differences_one = []\n",
    "    aggregate_average_differences_two = []\n",
    "    for walk in walks:\n",
    "        position_neg_one_difference = []\n",
    "        position_one_difference = []\n",
    "        position_two_difference = []\n",
    "        animals = []\n",
    "        IRT_list = []\n",
    "        for animal, IRT in walk:\n",
    "            animals.append(animal)\n",
    "            IRT_list.append(IRT)\n",
    "        mean_IRT = sum(IRT_list)/len(IRT_list)\n",
    "        i = 1\n",
    "        while i < len(walk) - 1:\n",
    "            if set(ANIMAL_TO_CATEGORIES[animals[i]]).isdisjoint(ANIMAL_TO_CATEGORIES[animals[i-1]]):\n",
    "                if set(ANIMAL_TO_CATEGORIES[animals[i]]).isdisjoint(ANIMAL_TO_CATEGORIES[animals[i+1]]) is False:\n",
    "                    position_neg_one = IRT_list[i-1]\n",
    "                    position_one = IRT_list[i]\n",
    "                    position_two = IRT_list[i+1]\n",
    "                    position_neg_one_difference.append(abs(mean_IRT - position_neg_one))\n",
    "                    position_one_difference.append(abs(mean_IRT - position_one))\n",
    "                    position_two_difference.append(abs(mean_IRT - position_two))\n",
    "            i += 1\n",
    "        if len(position_neg_one_difference) > 0:\n",
    "            position_neg_one_average = sum(position_neg_one_difference)/len(position_neg_one_difference)\n",
    "            position_one_average = sum(position_one_difference)/len(position_one_difference)\n",
    "            position_two_average = sum(position_two_difference)/len(position_two_difference)\n",
    "            aggregate_average_differences_neg_one.append(position_neg_one_average)\n",
    "            aggregate_average_differences_one.append(position_one_average)\n",
    "            aggregate_average_differences_two.append(position_two_average)\n",
    "    total_mean_position_neg_one = sum(aggregate_average_differences_neg_one)/len(aggregate_average_differences_neg_one)\n",
    "    total_mean_position_one = sum(aggregate_average_differences_one)/len(aggregate_average_differences_one)\n",
    "    total_mean_position_two = sum(aggregate_average_differences_two)/len(aggregate_average_differences_two)\n",
    "    generate_plot([total_mean_position_neg_one, total_mean_position_one, total_mean_position_two])\n",
    "print (\"Sample 1: \\n\")\n",
    "graph_patch_switches(sample1)\n",
    "print (\"Sample 2: \\n\")\n",
    "graph_patch_switches(sample2)\n",
    "    "
   ]
  },
  {
   "cell_type": "markdown",
   "metadata": {},
   "source": [
    "### (g)\n",
    "\n",
    "Now call `graph_patch_switches` on a list of N walks generated using the graph from part a with `start = 'animal'` and `walk_length = 50`. Only include walks containing 6 or more valid animal items in your analysis. (More specifically, you should generate walks until you have N walks that contain at least 6 valid animal items.)\n",
    "\n",
    "(i) Run your function with N=20 and show the graph.  Explain whether this matches the patch switch pattern seen in the human data and replicated by Abbott et al.\n",
    "\n",
    "(ii) Now run your function 10 more times with N=20.  Discuss whether the graphs across these different runs show the same pattern consistently.  Please do not include these graphs in what you turn in.\n",
    "\n",
    "(iii) Run your function two times with N=1000 random walks (this can take about 2 minutes each), and print the graphs for each of these two runs.  Explain whether the graphs match the patch switch pattern seen in the human data and replicated by Abbott et al.  Are the results consistent across the two runs?"
   ]
  },
  {
   "cell_type": "code",
   "execution_count": 108,
   "metadata": {},
   "outputs": [],
   "source": [
    "def generate_graph_patch_switches(n):\n",
    "    walks = []\n",
    "    for i in range(n):\n",
    "        animal_list = []\n",
    "        while len(animal_list) < 6:\n",
    "            random_walk = weighted_random_walk(G, \"animal\", 50)\n",
    "            description, animal_list = get_animal_and_IRT(random_walk)\n",
    "        walks.append(animal_list)\n",
    "    graph_patch_switches(walks)"
   ]
  },
  {
   "cell_type": "code",
   "execution_count": 112,
   "metadata": {},
   "outputs": [
    {
     "data": {
      "image/png": "[encoded data removed]",
      "text/plain": [
       "<Figure size 432x288 with 1 Axes>"
      ]
     },
     "metadata": {
      "needs_background": "light"
     },
     "output_type": "display_data"
    }
   ],
   "source": [
    "generate_graph_patch_switches(20)"
   ]
  },
  {
   "cell_type": "markdown",
   "metadata": {},
   "source": [
    "* i) Yes, it matches the graph with position 1 being the highest bar. In the Abbott et al paper, they found similar results. \n",
    "* ii) Upon running this function multiple times, my findings were that these graphs are not consistent in showing the same pattern. This leads me to believe that the graph achieved in i) is not reflective of true data and merely by chance led by a small sample of only 20."
   ]
  },
  {
   "cell_type": "code",
   "execution_count": 114,
   "metadata": {},
   "outputs": [
    {
     "data": {
      "image/png": "[encoded data removed]",
      "text/plain": [
       "<Figure size 432x288 with 1 Axes>"
      ]
     },
     "metadata": {
      "needs_background": "light"
     },
     "output_type": "display_data"
    },
    {
     "data": {
      "image/png": "[encoded data removed]",
      "text/plain": [
       "<Figure size 432x288 with 1 Axes>"
      ]
     },
     "metadata": {
      "needs_background": "light"
     },
     "output_type": "display_data"
    }
   ],
   "source": [
    "for i in range(2):\n",
    "    generate_graph_patch_switches(1000)"
   ]
  },
  {
   "cell_type": "markdown",
   "metadata": {},
   "source": [
    "* iii) Upon running this function with a large sample size we are able to see that the graph does match the patch switch pattern seen in human data and replicated by Abbott et al. Results are generally consistent, with position 1 being the highest bar, position -1 being a little lower, and position -2 being the lowest bar. Such findings from a large random sample show that their replication in the paper is reflective of real world phenomena within semantic network search theory."
   ]
  },
  {
   "cell_type": "markdown",
   "metadata": {},
   "source": [
    "### (h)\n",
    "\n",
    "Write a script to call `get_animals_and_IRT` from part e on 20 random walks of length 50 starting at 'animal'. Write your script so that each random walk contains at least 6 valid animal items. Make sure to clearly number walks 1 - 20."
   ]
  },
  {
   "cell_type": "code",
   "execution_count": 72,
   "metadata": {},
   "outputs": [
    {
     "name": "stdout",
     "output_type": "stream",
     "text": [
      "Walk 1: \n",
      "\n",
      "['salmon', 'river', 'flow', 'grace', 'heaven', 'death', 'gone', 'disappear', 'rid', 'leave', 'return', 'parcel', 'tidy', 'kitchen', 'warm', 'weather', 'sun', 'here', 'rabbit', 'ears', 'elephant', 'hairy', 'dirty', 'sex', 'bare', 'foot', 'loose', 'bird', 'bath', 'England', 'Britain', 'cricket', 'night', 'owl', 'neck', 'smooth', 'water', 'daughter', 'cherish', 'want', 'own', 'room', 'home', 'rest', 'tire', 'car', 'danger', 'risk', 'bet', 'odds']\n",
      "\n",
      "Walk 2: \n",
      "\n",
      "['turtle', 'shell', 'protect', 'lion', 'beautiful', 'pink', 'rose', 'kiss', 'lust', 'nothing', 'endless', 'infinity', 'sign', 'warning', 'sign', 'turn', 'road', 'sign', 'seal', 'fish', 'smoke', 'burn', 'flame', 'light', 'fun', 'puppy', 'chew', 'swallow', 'feathers', 'duck', 'bath', 'steam', 'boat', 'tug', 'pull', 'bull', 'cowboy', 'pants', 'back', 'time', 'being', 'doing', 'thought', 'control', 'careful', 'sign', 'sky', 'space', 'station', 'agent']\n",
      "\n",
      "Walk 3: \n",
      "\n",
      "['monster', 'normal', 'ordinary', 'cat', 'lion', 'den', 'cub', 'bear', 'bull', 'black', 'grey', 'black', 'hair', 'brush', 'tool', 'pencil', 'art', 'open', 'relationship', 'friend', 'kind', 'caring', 'food', 'eat', 'wheat', 'produce', 'nothing', 'more', 'sense', 'no', 'cannot', 'fail', 'snail', 'back', 'ache', 'body', 'crowd', 'large', 'ego', 'esteem', 'feel', 'right', 'arm', 'head', 'brain', 'weird', 'have', 'ownership', 'control', 'own']\n",
      "\n",
      "Walk 4: \n",
      "\n",
      "['tiger', 'animal', 'bat', 'cricket', 'luck', 'happiness', 'sunshine', 'spring', 'bed', 'warm', 'puppy', 'chew', 'fat', 'small', 'pea', 'hen', 'barn', 'raise', 'increase', 'fat', 'gym', 'work', 'rest', 'break', 'smash', 'slam', 'slap', 'happy', 'dog', 'dog', 'companion', 'wife', 'female', 'friend', 'calm', 'silence', 'hush', 'mouth', 'eating', 'meal', 'dessert', 'cookie', 'flour', 'cookies', 'cream', 'heavy', 'load', 'lot', 'region', 'region']\n",
      "\n",
      "Walk 5: \n",
      "\n",
      "['swift', 'speedy', 'rush', 'messy', 'hair', 'horse', 'donkey', 'chicken', 'feet', 'monkey', 'fun', 'laughter', 'joy', 'content', 'loved', 'cat', 'tree', 'cross', 'Christmas', 'bar', 'party', 'individual', 'spark', 'wire', 'money', 'tender', 'give', 'take', 'eat', 'meat', 'red', 'rich', 'growth', 'enlarge', 'space', 'camp', 'temporary', 'employee', 'staff', 'meeting', 'English', 'food', 'yummy', 'bear', 'big', 'pie', 'chart', 'row', 'boat', 'canoe']\n",
      "\n",
      "Walk 6: \n",
      "\n",
      "['elephant', 'large', 'huge', 'enormous', 'vast', 'wealth', 'silver', 'iron', 'tool', 'leather', 'seat', 'sit', 'butt', 'goat', 'wolf', 'owl', 'feathers', 'hay', 'barn', 'animals', 'collective', 'decision', 'vote', 'for', 'against', 'war', 'horse', 'rear', 'tail', 'lion', 'sharp', 'music', 'ears', 'listen', 'care', 'eye', 'drop', 'apple', 'arrow', 'left', 'lonely', 'fear', 'fire', 'university', 'library', 'fee', 'upset', 'unhappy', 'red', 'rich']\n",
      "\n",
      "Walk 7: \n",
      "\n",
      "['wolf', 'lone', 'home', 'help', 'not', 'able', 'think', 'fish', 'trout', 'big', 'love', 'pretty', 'pink', 'socks', 'pink', 'pretty', 'lovely', 'soft', 'fuzzy', 'bunny', 'kid', 'annoying', 'bug', 'insect', 'sick', 'me', 'human', 'society', 'upper', 'teeth', 'paste', 'library', 'car', 'trip', 'ouch', 'wound', 'death', 'blood', 'bottle', 'top', 'below', 'Australia', 'desert', 'sky', 'great', 'retirement', 'work', 'performance', 'star', 'shining']\n",
      "\n",
      "Walk 8: \n",
      "\n",
      "['frog', 'water', 'whale', 'bill', 'goat', 'all', 'inclusive', 'activity', 'learn', 'library', 'love', 'trust', 'positive', 'pole', 'phone', 'text', 'alphabet', 'green', 'Christmas', 'holiday', 'fun', 'have', 'fun', 'great', 'few', 'single', 'word', 'definition', 'term', 'time', 'measurement', 'cart', 'horse', 'stable', 'table', 'together', 'united', 'state', 'talk', 'fast', 'hurry', 'busy', 'motion', 'tired', 'anxious', 'fear', 'worry', 'happy', 'bunny', 'kid']\n",
      "\n",
      "Walk 9: \n",
      "\n",
      "['owl', 'white', 'house', 'mom', 'friend', 'help', 'bother', 'statement', 'witness', 'witch', 'nose', 'head', 'fold', 'group', 'one', 'glue', 'kid', 'slang', 'code', 'sign', 'pen', 'draw', 'loss', 'bear', 'fox', 'band', 'metal', 'grey', 'whale', 'horror', 'scare', 'laugh', 'loud', 'party', 'celebrate', 'laughter', 'sad', 'down', 'ward', 'sign', 'cross', 'catholic', 'hill', 'ant', 'picnic', 'park', 'land', 'lake', 'peaceful', 'alone']\n",
      "\n",
      "Walk 10: \n",
      "\n",
      "['donkey', 'chicken', 'tasty', 'salt', 'tea', 'China', 'mountains', 'fun', 'laughter', 'giggle', 'deal', 'turn', 'about', 'walking', 'stick', 'dog', 'elephant', 'white', 'tea', 'honey', 'milk', 'wet', 'shower', 'good', 'angel', 'wing', 'insect', 'black', 'deep', 'weighty', 'heavy', 'fat', 'butter', 'bean', 'crazy', 'free', 'wheel', 'cycle', 'bike', 'bell', 'Christmas', 'c', 'sound', 'hope', 'gift', 'shiny', 'ass', 'fat', 'oil', 'change']\n",
      "\n",
      "Walk 11: \n",
      "\n",
      "['whale', 'mice', 'elephant', 'obvious', 'correct', 'work', 'away', 'travel', 'Paris', 'beauty', 'form', 'required', 'obey', 'military', 'tough', 'male', 'bloke', 'buddy', 'gay', 'alternative', 'decision', 'decide', 'why', 'fate', 'death', 'sudden', 'scare', 'dog', 'snake', 'dirt', 'devil', 'red', 'pain', 'ass', 'fool', 'gold', 'color', 'skin', 'rough', 'dry', 'high', 'ladder', 'jump', 'conclude', 'finish', 'color', 'yellow', 'ball', 'net', 'list']\n",
      "\n",
      "Walk 12: \n",
      "\n",
      "['ant', 'nest', 'warm', 'comfortable', 'beach', 'bird', 'group', 'shop', 'clothes', 'soft', 'home', 'again', 'tired', 'deprived', 'poverty', 'people', 'happiness', 'candy', 'cane', 'ill', 'sweat', 'dew', 'sunlight', 'summer', 'trout', 'lemon', 'women', 'breast', 'chicken', 'wing', 'food', 'creative', 'knowing', 'clever', 'boy', 'man', 'boy', 'fun', 'ball', 'boy', 'dog', 'snake', 'train', 'dress', 'make', 'better', 'heal', 'doctor', 'animal', 'bull']\n",
      "\n",
      "Walk 13: \n",
      "\n",
      "['goat', 'kid', 'glove', 'wool', 'sheep', 'white', 'teeth', 'lips', 'mind', 'us', 'friends', 'warmth', 'mug', 'solid', 'hearty', 'big', 'top', 'relief', 'body', 'exercise', 'diet', 'soda', 'cleaner', 'laundry', 'money', 'work', 'everyday', 'shit', 'pain', 'ass', 'monster', 'children', 'laugh', 'play', 'rules', 'wake', 'bright', 'light bulb', 'electric', 'vehicle', 'tree', 'tree', 'grass', 'chill', 'blue', 'bird', 'beak', 'hook', 'rod', 'fun']\n",
      "\n",
      "Walk 14: \n",
      "\n",
      "['tiger', 'black', 'midnight', 'late', 'slow', 'poke', 'memory', 'thinking', 'decide', 'settle', 'here', 'over', 'game', 'deer', 'sweet', 'assistance', 'ass', 'smart', 'funny', 'surprise', 'big', 'fat', 'ugly', 'beauty', 'princess', 'fantasy', 'fake', 'posh', 'annoying', 'annoy', 'poke', 'touch', 'emotion', 'on', 'automatic', 'technology', 'music', 'tone', 'speech', 'politician', 'old', 'dog', 'elephant', 'mud', 'dumb', 'ugly', 'fish', 'dinner', 'more', 'food']\n",
      "\n",
      "Walk 15: \n",
      "\n",
      "['kitten', 'small', 'bit', 'biscuit', 'hungry', 'dinner', 'cook', 'love', 'here', 'close', 'kin', 'love', 'warm', 'bread', 'cheese', 'bread', 'cheese', 'wheel', 'turn', 'corner', 'little', 'infinite', 'beyond', 'great', 'wow', 'woo', 'owl', 'wisdom', 'beard', 'dirty', 'pig', 'noise', 'ears', 'rabbit', 'meat', 'stick', 'hurt', 'horse', 'deer', 'face', 'facts', 'notes', 'taken', 'given', 'present', 'cat', 'bed', 'sheet', 'thin', 'fat']\n",
      "\n",
      "Walk 16: \n",
      "\n",
      "['squid', 'kite', 'sunny', 'weather', 'condition', 'obstacle', 'hard', 'effort', 'worry', 'stress', 'force', 'forceful', 'gym', 'bunny', 'love', 'affair', 'girl', 'slip', 'hurt', 'deer', 'skin', 'treat', 'occasion', 'restaurant', 'beer', 'friends', 'warmth', 'smile', 'enjoy', 'good', 'acceptable', 'work', 'man', 'bloke', 'mate', 'sea', 'storm', 'watch', 'television', 'audio', 'function', 'curve', 'line', 'dot', 'screen', 'computer', 'program', 'entertainment', 'chicken', 'duck']\n",
      "\n",
      "Walk 17: \n",
      "\n",
      "['swift', 'foot', 'bottom', 'worse', 'cold', 'coat', 'aunt', 'family', 'close', 'time', 'tired', 'sleep', 'comfortable', 'table', 'feast', 'full', 'satisfied', 'hungry', 'drive', 'watch', 'stop', 'command', 'prompt', 'speedy', 'driver', 'software', 'internet', 'communication', 'end', 'destruction', 'loss', 'hair', 'bear', 'heavy', 'man', 'hood', 'street', 'lane', 'shopping', 'long', 'winter', 'England', 'country', 'mouse', 'animal', 'cub', 'fox', 'animal', 'fly', 'sail']\n",
      "\n",
      "Walk 18: \n",
      "\n",
      "['wolf', 'tiger', 'bear', 'mountains', 'fresh', 'banana', 'monkey', 'evolution', 'turtle', 'snake', 'hunt', 'kill', 'shot', 'flu', 'sneeze', 'air', 'wind', 'house', 'red', 'period', 'female', 'journey', 'mouse', 'dirty', 'trash', 'bag', 'in', 'enclosed', 'surround', 'consume', 'bacon', 'want', 'candy', 'good', 'bunny', 'small', 'cat', 'warm', 'fire', 'fly', 'speed', 'go', 'free', 'money', 'devil', 'cool', 'comfortable', 'blanket', 'relax', 'reading']\n",
      "\n",
      "Walk 19: \n",
      "\n",
      "['seal', 'kiss', 'dear', 'warm', 'soft', 'touch', 'gesture', 'finger', 'nail', 'picture', 'baby', 'toy', 'red', 'danger', 'car', 'drive', 'cattle', 'grass', 'ass', 'cute', 'puppy', 'walk', 'sun', 'ray', 'solar', 'yellow', 'sunshine', 'relaxation', 'lazy', 'energetic', 'soccer', 'black', 'street', 'person', 'hello', 'person', 'personality', 'magnetic', 'mouse', 'cartoon', 'read', 'alone', 'silence', 'dead', 'certain', 'go', 'battle', 'armor', 'steel', 'armor']\n",
      "\n"
     ]
    },
    {
     "name": "stdout",
     "output_type": "stream",
     "text": [
      "Walk 20: \n",
      "\n",
      "['kitten', 'puppy', 'soft', 'blanket', 'comforter', 'cover', 'two', 'prime', 'person', 'like', 'person', 'brother', 'relative', 'parent', 'grateful', 'relax', 'ease', 'difficulty', 'sorrow', 'happiness', 'happy', 'circus', 'circus', 'scary', 'ghost', 'fly', 'kite', 'money', 'currency', 'paper', 'cut', 'deep', 'emotion', 'none', 'gone', 'pie', 'tree', 'shade', 'page', 'paper', 'stamp', 'press', 'cork', 'stop', 'halt', 'police', 'protection', 'armor', 'horse', 'mule']\n",
      "\n"
     ]
    }
   ],
   "source": [
    "for i in range(1, 21):\n",
    "    animal_list = []\n",
    "    while len(animal_list) < 6:\n",
    "        random_walk = weighted_random_walk(G, 'animal', 50)\n",
    "        description, animal_list = get_animal_and_IRT(random_walk)\n",
    "    print (\"Walk \"+ str(i) + \": \\n\")\n",
    "    print (str(random_walk) + \"\\n\")"
   ]
  },
  {
   "cell_type": "markdown",
   "metadata": {},
   "source": [
    "### (i)\n",
    "\n",
    "(i) Name three different aspects of the paths you see in part h which contribute to the length of a path and which are not simple, direct associations with animal words.  For example, paths such as cat=>pet=>goldfish or tiger=>stripes=>zebra seem to match our intuition about what might trigger chains of responses in human semantic fluency. But you almost certainly found some paths in which chains of associations are longer due to some interesting factors.  Please identify three of these and show an example of each from your paths.\n",
    "\n",
    "(ii) Also, find a path that you think is particularly funny, and say why.\n",
    "\n",
    "(iii) How does your inspection of the 20 paths you generated influence your assessment of the findings in Abbott et al.? "
   ]
  },
  {
   "cell_type": "markdown",
   "metadata": {},
   "source": [
    "* i) \n",
    "* - One contributing factor to the length of a walk are antonyms, such as Walk 19 'lazy' -> 'energetic'. Such antonyms allow future 'steps' of the walk to access more words associated that would not have been overlapped, e.g. 'relaxation -> lazy -> energetic -> soccer'. \n",
    "* - Additionally, another contributing factor to the length of a walk is continuation of 'stream of conciousness' that generally occurs as one may expect the next word may be, even though it is not even related to that word. To elaborate, one annoying real world example is the saying 'we finish each other's _ ' where the last word would be 'sentence'. Such 'stream of conciousness' occurs in Walk 14 \"slow\" -> \"poke\", and Walk 3 \"back\" -> \"ache\".\n",
    "* - Lastly, another contributing factor to the length of a walk is the phonology of the word. Alliteration, for example, is seen throughout scattered within Walk 6 \"sign\" -> \"sky\". Rhyme, for example, is also seen within Walk 19 \"grass\" -> \"ass\" and Walk 2 \"pull\" -> \"bull\". Such connections do not apppear to have sharing semantics, but these words sound similar to each other.\n",
    "* ii)\n",
    "* - Walk 13: 'work' -> 'everyday' -> 'shit' -> 'pain' -> 'ass'. It is funny how a random walk along a semantic network perfectly encapsulates the human condition. I can only imagine the thought process of those who forward associated these words, but I bet all had the disposition: \"I work everyday, shit, it's a pain in my ass.\"\n",
    "* iii)\n",
    "* - I am convinced that semantic networks within the mind more likely resembles a random walk than optimal foraging. The evidence they provide in their paper shows that random walks resemble human semantic walks more than optimal foraging. In this assignment, we are able to see that, indeed, the findings of g) reflect the data shown in the Abbott et al paper. Additionally, the random walks in h) show that it is a reflection of rational(and irrational), humanlike, consciousness of thought. Therefore, I am convinced that the Abbott et al paper was accurate in assessing semantic networks as a random walk. \n"
   ]
  }
 ],
 "metadata": {
  "kernelspec": {
   "display_name": "Python 3",
   "language": "python",
   "name": "python3"
  },
  "language_info": {
   "codemirror_mode": {
    "name": "ipython",
    "version": 3
   },
   "file_extension": ".py",
   "mimetype": "text/x-python",
   "name": "python",
   "nbconvert_exporter": "python",
   "pygments_lexer": "ipython3",
   "version": "3.5.6"
  }
 },
 "nbformat": 4,
 "nbformat_minor": 2
}
