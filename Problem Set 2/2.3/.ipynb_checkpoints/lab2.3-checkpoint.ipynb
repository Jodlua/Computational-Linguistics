{
 "cells": [
  {
   "cell_type": "markdown",
   "metadata": {},
   "source": [
    "## COG403: Problem 3 of Problem Set 2: Noun Classes in Tsez\n",
    "\n",
    "### All 3 problems for Problem Set 2 Due 1 November 2018, 2 pm"
   ]
  },
  {
   "cell_type": "markdown",
   "metadata": {},
   "source": [
    "In this problem, you'll implement a Naive Bayes classifier (we'll call this Model 0) as well as the Phonological Preference model (Model 3) from Gagliardi et al. (2012).  Then you'll apply Model 3 to three new sets of Tsez data: from younger children (4-7 year olds), older children (8-12 year olds), and adults, and analyze the pattern of learning revealed by the three."
   ]
  },
  {
   "cell_type": "markdown",
   "metadata": {},
   "source": [
    "### (a)\n",
    "\n",
    "Implement `get_features_given_class` according to the docstring below.\n",
    "This function computes the conditional probabilities $p(f_i|c_j)$\n",
    "where $f_i$ is a feature value and $c_j$ is one of the noun classes. `get_features_given_class` will be used by both Model 0 and Model 3.\n",
    "\n",
    "* For full credit on this problem, the `get_features_given_class` function should use an estimate of the expected value according to a Dirichlet distribution, as discussed in class, using the $\\alpha$ as specified in the code prior to the function.\n",
    "\n",
    "* For partial credit, you can use a Maximum Likelihood Estimate of the conditional probability in `get_features_given_class`.  You might also first implement the function using MLE in order to easily check your computations.\n",
    "\n",
    "Make sure to go through and verify that your conditional probability computations make sense (ideally working them out by hand for a particular feature value). You are not required to show this here, but it is critical that you understand this to do well on this problem.\n",
    "\n",
    "Call `get_feature_given_class('semantic')` to show the output of your function on semantic features."
   ]
  },
  {
   "cell_type": "code",
   "execution_count": 1,
   "metadata": {},
   "outputs": [],
   "source": [
    "import numpy as np\n",
    "from data import class_features_joint, noun_class_probabilities\n",
    "\n",
    "\n",
    "alpha = 0.001 # This is the alpha constant for the Dirichlet estimates\n",
    "              # of expected values of the conditional probabilities.\n",
    "              # (alpha_i = alpha_j for all feature values i, j)\n",
    "# You're welcome to experiment with different values of alpha, but:\n",
    "# BE SURE THAT alpha IS SET TO .001 FOR THE RESULTS YOU TURN IN.\n",
    "\n",
    "# You may also find it useful to have a variable for alpha * n_feature_values\n",
    "    \n",
    "def get_feature_given_class(feature_type):\n",
    "    \"\"\"\n",
    "    feature_type: string in {\"beg_phonological\", \"semantic\"}\n",
    "    \n",
    "    Return a np.array of shape (n_feature_values, n_classes), where each index is the conditional\n",
    "    probability of a feature value of feature_type given one of the four noun classes.\n",
    "    Make sure that the rows of the returned np.array correspond to the feature values in the order \n",
    "    specified by the values of the constants defined in data.py (e.g. SEMANTIC_ANIMATE is set to 0, \n",
    "    so it should be the 0th row).\n",
    "    Similarly, make sure that the four classes correspond to the four columns.\n",
    "    \"\"\"\n",
    "    # TODO\n",
    "    pass\n",
    "\n",
    "\n",
    "get_feature_given_class('semantic')"
   ]
  },
  {
   "cell_type": "markdown",
   "metadata": {},
   "source": [
    "### (b)\n",
    "\n",
    "In the paper, Gagliardi et al. first present a Naive Bayes classifier as a baseline comparison to how children are classifying nouns in Tsez. Here, we will refer to this classifier as M0. Write a function `compute_trial_results_M0` that computes the results for each trial using equation (1) from the paper.\n",
    "\n",
    "Call `compute_trial_results_M0` and print the result."
   ]
  },
  {
   "cell_type": "code",
   "execution_count": 2,
   "metadata": {},
   "outputs": [
    {
     "name": "stdout",
     "output_type": "stream",
     "text": [
      "None\n"
     ]
    }
   ],
   "source": [
    "from data import features_by_trial\n",
    "\n",
    "\n",
    "def compute_trial_results_M0():\n",
    "    \"\"\"\n",
    "    Return a np.array of shape (n_trials, n_classes), where each row corresponds to\n",
    "    a trial and each column corresponds to one of the four noun classes. The rows\n",
    "    should be a probability distribution over the four noun classes for each trial\n",
    "    using a Naive Bayes Classifier that looks at phonological and semantic features\n",
    "    (using formula (1) from Gagliardi et al.).\n",
    "    \"\"\"\n",
    "    # TODO\n",
    "    pass\n",
    "\n",
    "\n",
    "M0_results = compute_trial_results_M0()\n",
    "print(M0_results)"
   ]
  },
  {
   "cell_type": "markdown",
   "metadata": {},
   "source": [
    "### (c)\n",
    "\n",
    "The code for graphing `kid_answers` is provided and is called below. In a similar way, graph `M0_results` found in part b above for the feature combination of semantic female and beg phonological *r*. How do the two graphs compare? Is this what you would expect based on the results found in the paper?  (Your answer should be no longer than 100 words.)"
   ]
  },
  {
   "cell_type": "code",
   "execution_count": 5,
   "metadata": {},
   "outputs": [
    {
     "data": {
      "image/png": "[encoded data removed]",
      "text/plain": [
       "<matplotlib.figure.Figure at 0x7f8cf587d358>"
      ]
     },
     "metadata": {},
     "output_type": "display_data"
    }
   ],
   "source": [
    "from data import kid_answers, SEMANTIC_FEMALE, BEG_PHON_R\n",
    "from provided_functions import visualise_results\n",
    "\n",
    "visualise_results(kid_answers, semantic_filter=[SEMANTIC_FEMALE], beg_phonological_filter=[BEG_PHON_R],\n",
    "                  title=\"Kid Answers\")"
   ]
  },
  {
   "cell_type": "code",
   "execution_count": 6,
   "metadata": {},
   "outputs": [],
   "source": [
    "# Call visualise_results on M0_results here."
   ]
  },
  {
   "cell_type": "markdown",
   "metadata": {},
   "source": [
    "### (d)\n",
    "\n",
    "Model 3 in the paper investigated the Phonological Preference Hypothesis. Implement M3 according to the function definitions below, which implement equation (4) from Gagliardi et al. (Note: it will probably be easiest to modify your code from part b.)\n",
    "\n",
    "Call `compute_trial_results_M3` with a beta of 0.65 (the best results from the paper) and print the result."
   ]
  },
  {
   "cell_type": "code",
   "execution_count": 7,
   "metadata": {},
   "outputs": [
    {
     "name": "stdout",
     "output_type": "stream",
     "text": [
      "None\n"
     ]
    }
   ],
   "source": [
    "from data import features_by_trial, noun_class_probabilities, SEMANTIC_OTHER\n",
    "\n",
    "\n",
    "def compute_trial_results_phon_only():\n",
    "    \"\"\"\n",
    "    Return an np.array of shape (n_trials, n_classes), where each row corresponds to\n",
    "    a trial and each column corresponds to one of the four noun classes. The rows\n",
    "    should be a probability distribution over the four noun classes for each trial\n",
    "    using a Naive Bayes Classifier that looks at only phonological features\n",
    "    (this computes the second term from formula (4) from Gagliardi et al.).\n",
    "    \"\"\"\n",
    "    # TODO\n",
    "    pass\n",
    "\n",
    "\n",
    "def compute_trial_results_M3(beta):\n",
    "    \"\"\"\n",
    "    Return an np.array of shape (n_trials, n_classes), where each row corresponds to\n",
    "    a trial and each column corresponds to one of the four noun classes. The rows\n",
    "    should be a probability distribution over the four noun classes.\n",
    "    \n",
    "    The results should implement equation (4) from Gagliardi et al., using the beta\n",
    "    parameter passed into the function.\n",
    "    \n",
    "    Hint: M3 is a mixture model, which you can implement as weighing the results of \n",
    "    two different models.\n",
    "    \"\"\"\n",
    "    # TODO\n",
    "    pass\n",
    "\n",
    "\n",
    "M3_results = compute_trial_results_M3(0.65)\n",
    "print(M3_results)"
   ]
  },
  {
   "cell_type": "markdown",
   "metadata": {},
   "source": [
    "### (e)\n",
    "\n",
    "Graph the results from M3 (using `visualise_results`) for the feature combination of semantic female and phonological initial *r*.\n",
    "\n",
    "Is this a better fit than M0? Briefly explain what this comparison suggests about the way that children process noun classes in Tsez.  (Your answer should be no longer than 100 words.)"
   ]
  },
  {
   "cell_type": "markdown",
   "metadata": {},
   "source": [
    "### (f)\n",
    "\n",
    "Below, we've graphed the results for `young_kid_answers`, `older_kid_answers`, and `adult_answers`, for the combination of semantic female and phonological initial *r*."
   ]
  },
  {
   "cell_type": "code",
   "execution_count": 8,
   "metadata": {},
   "outputs": [
    {
     "data": {
      "image/png": "[encoded data removed]",
      "text/plain": [
       "<matplotlib.figure.Figure at 0x7f8cf55af550>"
      ]
     },
     "metadata": {},
     "output_type": "display_data"
    },
    {
     "data": {
      "image/png": "[encoded data removed]",
      "text/plain": [
       "<matplotlib.figure.Figure at 0x7f8cf55af6a0>"
      ]
     },
     "metadata": {},
     "output_type": "display_data"
    },
    {
     "data": {
      "image/png": "[encoded data removed]",
      "text/plain": [
       "<matplotlib.figure.Figure at 0x7f8cf5547ef0>"
      ]
     },
     "metadata": {},
     "output_type": "display_data"
    }
   ],
   "source": [
    "from data import young_kid_answers, older_kid_answers, adult_answers, SEMANTIC_FEMALE, BEG_PHON_R\n",
    "from provided_functions import visualise_results\n",
    "\n",
    "visualise_results(young_kid_answers, semantic_filter=[SEMANTIC_FEMALE], beg_phonological_filter=[BEG_PHON_R],\n",
    "                  title=\"Young Kid Answers\")\n",
    "visualise_results(older_kid_answers, semantic_filter=[SEMANTIC_FEMALE], beg_phonological_filter=[BEG_PHON_R],\n",
    "                  title=\"Older Kid Answers\")\n",
    "visualise_results(adult_answers, semantic_filter=[SEMANTIC_FEMALE], beg_phonological_filter=[BEG_PHON_R],\n",
    "                  title=\"Adult Answers\")"
   ]
  },
  {
   "cell_type": "markdown",
   "metadata": {},
   "source": [
    "### (f, continued)\n",
    "\n",
    "Complete the function `compute_optimal_M3_parameters` below to find the optimal parameter values for M3. \n",
    "\n",
    "Call `compute_optimal_M3_parameters` and print the optimal parameter values for each of `young_kid_answers`, `older_kid_answers`, and `adult_answers`."
   ]
  },
  {
   "cell_type": "code",
   "execution_count": 9,
   "metadata": {},
   "outputs": [
    {
     "ename": "TypeError",
     "evalue": "unsupported format string passed to NoneType.__format__",
     "output_type": "error",
     "traceback": [
      "\u001b[0;31m---------------------------------------------------------------------------\u001b[0m",
      "\u001b[0;31mTypeError\u001b[0m                                 Traceback (most recent call last)",
      "\u001b[0;32m<ipython-input-9-88d492fe4f6d>\u001b[0m in \u001b[0;36m<module>\u001b[0;34m()\u001b[0m\n\u001b[1;32m     19\u001b[0m     \u001b[0;32mpass\u001b[0m\u001b[0;34m\u001b[0m\u001b[0m\n\u001b[1;32m     20\u001b[0m \u001b[0;34m\u001b[0m\u001b[0m\n\u001b[0;32m---> 21\u001b[0;31m \u001b[0mprint\u001b[0m\u001b[0;34m(\u001b[0m\u001b[0;34m\"Optimal for young_kid_answers: {:.4f}\"\u001b[0m\u001b[0;34m.\u001b[0m\u001b[0mformat\u001b[0m\u001b[0;34m(\u001b[0m\u001b[0mcompute_optimal_M3_parameters\u001b[0m\u001b[0;34m(\u001b[0m\u001b[0mgold_standard\u001b[0m\u001b[0;34m=\u001b[0m\u001b[0myoung_kid_answers\u001b[0m\u001b[0;34m)\u001b[0m\u001b[0;34m)\u001b[0m\u001b[0;34m)\u001b[0m\u001b[0;34m\u001b[0m\u001b[0m\n\u001b[0m\u001b[1;32m     22\u001b[0m \u001b[0mprint\u001b[0m\u001b[0;34m(\u001b[0m\u001b[0;34m\"Optimal for older_kid_answers: {:.4f}\"\u001b[0m\u001b[0;34m.\u001b[0m\u001b[0mformat\u001b[0m\u001b[0;34m(\u001b[0m\u001b[0mcompute_optimal_M3_parameters\u001b[0m\u001b[0;34m(\u001b[0m\u001b[0mgold_standard\u001b[0m\u001b[0;34m=\u001b[0m\u001b[0molder_kid_answers\u001b[0m\u001b[0;34m)\u001b[0m\u001b[0;34m)\u001b[0m\u001b[0;34m)\u001b[0m\u001b[0;34m\u001b[0m\u001b[0m\n\u001b[1;32m     23\u001b[0m \u001b[0mprint\u001b[0m\u001b[0;34m(\u001b[0m\u001b[0;34m\"Optimal for adult_answers: {:.4f}\"\u001b[0m\u001b[0;34m.\u001b[0m\u001b[0mformat\u001b[0m\u001b[0;34m(\u001b[0m\u001b[0mcompute_optimal_M3_parameters\u001b[0m\u001b[0;34m(\u001b[0m\u001b[0mgold_standard\u001b[0m\u001b[0;34m=\u001b[0m\u001b[0madult_answers\u001b[0m\u001b[0;34m)\u001b[0m\u001b[0;34m)\u001b[0m\u001b[0;34m)\u001b[0m\u001b[0;34m\u001b[0m\u001b[0m\n",
      "\u001b[0;31mTypeError\u001b[0m: unsupported format string passed to NoneType.__format__"
     ]
    }
   ],
   "source": [
    "import numpy as np\n",
    "from data import adult_answers, young_kid_answers, older_kid_answers\n",
    "from provided_functions import sum_squared_error\n",
    "\n",
    "\n",
    "def compute_optimal_M3_parameters(gold_standard):\n",
    "    \"\"\"\n",
    "    gold_standard: np.array of shape (n_trials, n_classes) representing the trial answers\n",
    "        from humans (this could be kid_answers, adult_answers, etc).\n",
    "\n",
    "    Use a brute force approach to find the best parameters for M3 to fit the gold_standard.\n",
    "    You should try all values from 0 to 1 (inclusive) by increments of 0.01 (i.e.\n",
    "    [0, 0.01, 0.02, ... 1.00]).\n",
    "    Find the M3 results using compute_trial_results_M3 from part d.\n",
    "    Compute error between the model and gold_standard results using the sum_squared_error\n",
    "    function in provided_functions.py.\n",
    "    \"\"\"\n",
    "    # TODO\n",
    "    pass\n",
    "\n",
    "print(\"Optimal for young_kid_answers: {:.4f}\".format(compute_optimal_M3_parameters(gold_standard=young_kid_answers)))\n",
    "print(\"Optimal for older_kid_answers: {:.4f}\".format(compute_optimal_M3_parameters(gold_standard=older_kid_answers)))\n",
    "print(\"Optimal for adult_answers: {:.4f}\".format(compute_optimal_M3_parameters(gold_standard=adult_answers)))"
   ]
  },
  {
   "cell_type": "markdown",
   "metadata": {},
   "source": [
    "### (g)\n",
    "\n",
    "Consider the various optimal parameter settings you found in part f, along with the three graphs of the human data we provided.\n",
    "\n",
    "**1.** Do the optimal parameter settings you found fit your expectations given the developmental pattern of the human data?  Briefly explain why or why not.  (Your answer should be no longer than 100 words.)\n",
    "\n",
    "**2.** What do the parameter settings and data suggest about the process of learning in children?  Relate what you found to ideas in the readings and discussed in class.  (Your answer should be no longer than 100 words.)  \n",
    "\n"
   ]
  }
 ],
 "metadata": {
  "kernelspec": {
   "display_name": "Python 3",
   "language": "python",
   "name": "python3"
  },
  "language_info": {
   "codemirror_mode": {
    "name": "ipython",
    "version": 3
   },
   "file_extension": ".py",
   "mimetype": "text/x-python",
   "name": "python",
   "nbconvert_exporter": "python",
   "pygments_lexer": "ipython3",
   "version": "3.5.6"
  }
 },
 "nbformat": 4,
 "nbformat_minor": 2
}
